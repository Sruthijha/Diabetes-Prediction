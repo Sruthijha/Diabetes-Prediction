{
  "nbformat": 4,
  "nbformat_minor": 0,
  "metadata": {
    "colab": {
      "provenance": []
    },
    "kernelspec": {
      "name": "python3",
      "display_name": "Python 3"
    },
    "language_info": {
      "name": "python"
    }
  },
  "cells": [
    {
      "cell_type": "markdown",
      "source": [
        "# **Diabetes Prediction**"
      ],
      "metadata": {
        "id": "-ywyJl1nqW5z"
      }
    },
    {
      "cell_type": "markdown",
      "source": [
        "## **Dataset Loading**"
      ],
      "metadata": {
        "id": "Fziy4auEBjt3"
      }
    },
    {
      "cell_type": "code",
      "execution_count": 7,
      "metadata": {
        "id": "ZCODEWQB6Yri"
      },
      "outputs": [],
      "source": [
        "import numpy as np\n",
        "import pandas as pd\n",
        "from sklearn.preprocessing import StandardScaler\n",
        "from sklearn.model_selection import train_test_split\n",
        "from sklearn.metrics import accuracy_score, classification_report, confusion_matrix"
      ]
    },
    {
      "cell_type": "markdown",
      "source": [
        "Data Collection: PIMA Diabetes dataset"
      ],
      "metadata": {
        "id": "5ZNy69BzBszI"
      }
    },
    {
      "cell_type": "code",
      "source": [
        "df = pd.read_csv('diabetes.csv')"
      ],
      "metadata": {
        "id": "XJN7qC6yBrcN"
      },
      "execution_count": 8,
      "outputs": []
    },
    {
      "cell_type": "code",
      "source": [
        "df.head()"
      ],
      "metadata": {
        "colab": {
          "base_uri": "https://localhost:8080/",
          "height": 224
        },
        "id": "ZVWKPhJcCWQt",
        "outputId": "a8a36330-4d9e-4ed2-c444-625b533ce5ea"
      },
      "execution_count": 9,
      "outputs": [
        {
          "output_type": "execute_result",
          "data": {
            "text/plain": [
              "   Pregnancies  Glucose  BloodPressure  SkinThickness  Insulin   BMI  \\\n",
              "0            6      148             72             35        0  33.6   \n",
              "1            1       85             66             29        0  26.6   \n",
              "2            8      183             64              0        0  23.3   \n",
              "3            1       89             66             23       94  28.1   \n",
              "4            0      137             40             35      168  43.1   \n",
              "\n",
              "   DiabetesPedigreeFunction  Age  Outcome  \n",
              "0                     0.627   50        1  \n",
              "1                     0.351   31        0  \n",
              "2                     0.672   32        1  \n",
              "3                     0.167   21        0  \n",
              "4                     2.288   33        1  "
            ],
            "text/html": [
              "\n",
              "  <div id=\"df-070c671c-1bcf-4fab-9993-7cd982995251\" class=\"colab-df-container\">\n",
              "    <div>\n",
              "<style scoped>\n",
              "    .dataframe tbody tr th:only-of-type {\n",
              "        vertical-align: middle;\n",
              "    }\n",
              "\n",
              "    .dataframe tbody tr th {\n",
              "        vertical-align: top;\n",
              "    }\n",
              "\n",
              "    .dataframe thead th {\n",
              "        text-align: right;\n",
              "    }\n",
              "</style>\n",
              "<table border=\"1\" class=\"dataframe\">\n",
              "  <thead>\n",
              "    <tr style=\"text-align: right;\">\n",
              "      <th></th>\n",
              "      <th>Pregnancies</th>\n",
              "      <th>Glucose</th>\n",
              "      <th>BloodPressure</th>\n",
              "      <th>SkinThickness</th>\n",
              "      <th>Insulin</th>\n",
              "      <th>BMI</th>\n",
              "      <th>DiabetesPedigreeFunction</th>\n",
              "      <th>Age</th>\n",
              "      <th>Outcome</th>\n",
              "    </tr>\n",
              "  </thead>\n",
              "  <tbody>\n",
              "    <tr>\n",
              "      <th>0</th>\n",
              "      <td>6</td>\n",
              "      <td>148</td>\n",
              "      <td>72</td>\n",
              "      <td>35</td>\n",
              "      <td>0</td>\n",
              "      <td>33.6</td>\n",
              "      <td>0.627</td>\n",
              "      <td>50</td>\n",
              "      <td>1</td>\n",
              "    </tr>\n",
              "    <tr>\n",
              "      <th>1</th>\n",
              "      <td>1</td>\n",
              "      <td>85</td>\n",
              "      <td>66</td>\n",
              "      <td>29</td>\n",
              "      <td>0</td>\n",
              "      <td>26.6</td>\n",
              "      <td>0.351</td>\n",
              "      <td>31</td>\n",
              "      <td>0</td>\n",
              "    </tr>\n",
              "    <tr>\n",
              "      <th>2</th>\n",
              "      <td>8</td>\n",
              "      <td>183</td>\n",
              "      <td>64</td>\n",
              "      <td>0</td>\n",
              "      <td>0</td>\n",
              "      <td>23.3</td>\n",
              "      <td>0.672</td>\n",
              "      <td>32</td>\n",
              "      <td>1</td>\n",
              "    </tr>\n",
              "    <tr>\n",
              "      <th>3</th>\n",
              "      <td>1</td>\n",
              "      <td>89</td>\n",
              "      <td>66</td>\n",
              "      <td>23</td>\n",
              "      <td>94</td>\n",
              "      <td>28.1</td>\n",
              "      <td>0.167</td>\n",
              "      <td>21</td>\n",
              "      <td>0</td>\n",
              "    </tr>\n",
              "    <tr>\n",
              "      <th>4</th>\n",
              "      <td>0</td>\n",
              "      <td>137</td>\n",
              "      <td>40</td>\n",
              "      <td>35</td>\n",
              "      <td>168</td>\n",
              "      <td>43.1</td>\n",
              "      <td>2.288</td>\n",
              "      <td>33</td>\n",
              "      <td>1</td>\n",
              "    </tr>\n",
              "  </tbody>\n",
              "</table>\n",
              "</div>\n",
              "    <div class=\"colab-df-buttons\">\n",
              "\n",
              "  <div class=\"colab-df-container\">\n",
              "    <button class=\"colab-df-convert\" onclick=\"convertToInteractive('df-070c671c-1bcf-4fab-9993-7cd982995251')\"\n",
              "            title=\"Convert this dataframe to an interactive table.\"\n",
              "            style=\"display:none;\">\n",
              "\n",
              "  <svg xmlns=\"http://www.w3.org/2000/svg\" height=\"24px\" viewBox=\"0 -960 960 960\">\n",
              "    <path d=\"M120-120v-720h720v720H120Zm60-500h600v-160H180v160Zm220 220h160v-160H400v160Zm0 220h160v-160H400v160ZM180-400h160v-160H180v160Zm440 0h160v-160H620v160ZM180-180h160v-160H180v160Zm440 0h160v-160H620v160Z\"/>\n",
              "  </svg>\n",
              "    </button>\n",
              "\n",
              "  <style>\n",
              "    .colab-df-container {\n",
              "      display:flex;\n",
              "      gap: 12px;\n",
              "    }\n",
              "\n",
              "    .colab-df-convert {\n",
              "      background-color: #E8F0FE;\n",
              "      border: none;\n",
              "      border-radius: 50%;\n",
              "      cursor: pointer;\n",
              "      display: none;\n",
              "      fill: #1967D2;\n",
              "      height: 32px;\n",
              "      padding: 0 0 0 0;\n",
              "      width: 32px;\n",
              "    }\n",
              "\n",
              "    .colab-df-convert:hover {\n",
              "      background-color: #E2EBFA;\n",
              "      box-shadow: 0px 1px 2px rgba(60, 64, 67, 0.3), 0px 1px 3px 1px rgba(60, 64, 67, 0.15);\n",
              "      fill: #174EA6;\n",
              "    }\n",
              "\n",
              "    .colab-df-buttons div {\n",
              "      margin-bottom: 4px;\n",
              "    }\n",
              "\n",
              "    [theme=dark] .colab-df-convert {\n",
              "      background-color: #3B4455;\n",
              "      fill: #D2E3FC;\n",
              "    }\n",
              "\n",
              "    [theme=dark] .colab-df-convert:hover {\n",
              "      background-color: #434B5C;\n",
              "      box-shadow: 0px 1px 3px 1px rgba(0, 0, 0, 0.15);\n",
              "      filter: drop-shadow(0px 1px 2px rgba(0, 0, 0, 0.3));\n",
              "      fill: #FFFFFF;\n",
              "    }\n",
              "  </style>\n",
              "\n",
              "    <script>\n",
              "      const buttonEl =\n",
              "        document.querySelector('#df-070c671c-1bcf-4fab-9993-7cd982995251 button.colab-df-convert');\n",
              "      buttonEl.style.display =\n",
              "        google.colab.kernel.accessAllowed ? 'block' : 'none';\n",
              "\n",
              "      async function convertToInteractive(key) {\n",
              "        const element = document.querySelector('#df-070c671c-1bcf-4fab-9993-7cd982995251');\n",
              "        const dataTable =\n",
              "          await google.colab.kernel.invokeFunction('convertToInteractive',\n",
              "                                                    [key], {});\n",
              "        if (!dataTable) return;\n",
              "\n",
              "        const docLinkHtml = 'Like what you see? Visit the ' +\n",
              "          '<a target=\"_blank\" href=https://colab.research.google.com/notebooks/data_table.ipynb>data table notebook</a>'\n",
              "          + ' to learn more about interactive tables.';\n",
              "        element.innerHTML = '';\n",
              "        dataTable['output_type'] = 'display_data';\n",
              "        await google.colab.output.renderOutput(dataTable, element);\n",
              "        const docLink = document.createElement('div');\n",
              "        docLink.innerHTML = docLinkHtml;\n",
              "        element.appendChild(docLink);\n",
              "      }\n",
              "    </script>\n",
              "  </div>\n",
              "\n",
              "\n",
              "    <div id=\"df-9ae6ea6b-6b12-4a33-9a0d-b9f8629984bf\">\n",
              "      <button class=\"colab-df-quickchart\" onclick=\"quickchart('df-9ae6ea6b-6b12-4a33-9a0d-b9f8629984bf')\"\n",
              "                title=\"Suggest charts\"\n",
              "                style=\"display:none;\">\n",
              "\n",
              "<svg xmlns=\"http://www.w3.org/2000/svg\" height=\"24px\"viewBox=\"0 0 24 24\"\n",
              "     width=\"24px\">\n",
              "    <g>\n",
              "        <path d=\"M19 3H5c-1.1 0-2 .9-2 2v14c0 1.1.9 2 2 2h14c1.1 0 2-.9 2-2V5c0-1.1-.9-2-2-2zM9 17H7v-7h2v7zm4 0h-2V7h2v10zm4 0h-2v-4h2v4z\"/>\n",
              "    </g>\n",
              "</svg>\n",
              "      </button>\n",
              "\n",
              "<style>\n",
              "  .colab-df-quickchart {\n",
              "      --bg-color: #E8F0FE;\n",
              "      --fill-color: #1967D2;\n",
              "      --hover-bg-color: #E2EBFA;\n",
              "      --hover-fill-color: #174EA6;\n",
              "      --disabled-fill-color: #AAA;\n",
              "      --disabled-bg-color: #DDD;\n",
              "  }\n",
              "\n",
              "  [theme=dark] .colab-df-quickchart {\n",
              "      --bg-color: #3B4455;\n",
              "      --fill-color: #D2E3FC;\n",
              "      --hover-bg-color: #434B5C;\n",
              "      --hover-fill-color: #FFFFFF;\n",
              "      --disabled-bg-color: #3B4455;\n",
              "      --disabled-fill-color: #666;\n",
              "  }\n",
              "\n",
              "  .colab-df-quickchart {\n",
              "    background-color: var(--bg-color);\n",
              "    border: none;\n",
              "    border-radius: 50%;\n",
              "    cursor: pointer;\n",
              "    display: none;\n",
              "    fill: var(--fill-color);\n",
              "    height: 32px;\n",
              "    padding: 0;\n",
              "    width: 32px;\n",
              "  }\n",
              "\n",
              "  .colab-df-quickchart:hover {\n",
              "    background-color: var(--hover-bg-color);\n",
              "    box-shadow: 0 1px 2px rgba(60, 64, 67, 0.3), 0 1px 3px 1px rgba(60, 64, 67, 0.15);\n",
              "    fill: var(--button-hover-fill-color);\n",
              "  }\n",
              "\n",
              "  .colab-df-quickchart-complete:disabled,\n",
              "  .colab-df-quickchart-complete:disabled:hover {\n",
              "    background-color: var(--disabled-bg-color);\n",
              "    fill: var(--disabled-fill-color);\n",
              "    box-shadow: none;\n",
              "  }\n",
              "\n",
              "  .colab-df-spinner {\n",
              "    border: 2px solid var(--fill-color);\n",
              "    border-color: transparent;\n",
              "    border-bottom-color: var(--fill-color);\n",
              "    animation:\n",
              "      spin 1s steps(1) infinite;\n",
              "  }\n",
              "\n",
              "  @keyframes spin {\n",
              "    0% {\n",
              "      border-color: transparent;\n",
              "      border-bottom-color: var(--fill-color);\n",
              "      border-left-color: var(--fill-color);\n",
              "    }\n",
              "    20% {\n",
              "      border-color: transparent;\n",
              "      border-left-color: var(--fill-color);\n",
              "      border-top-color: var(--fill-color);\n",
              "    }\n",
              "    30% {\n",
              "      border-color: transparent;\n",
              "      border-left-color: var(--fill-color);\n",
              "      border-top-color: var(--fill-color);\n",
              "      border-right-color: var(--fill-color);\n",
              "    }\n",
              "    40% {\n",
              "      border-color: transparent;\n",
              "      border-right-color: var(--fill-color);\n",
              "      border-top-color: var(--fill-color);\n",
              "    }\n",
              "    60% {\n",
              "      border-color: transparent;\n",
              "      border-right-color: var(--fill-color);\n",
              "    }\n",
              "    80% {\n",
              "      border-color: transparent;\n",
              "      border-right-color: var(--fill-color);\n",
              "      border-bottom-color: var(--fill-color);\n",
              "    }\n",
              "    90% {\n",
              "      border-color: transparent;\n",
              "      border-bottom-color: var(--fill-color);\n",
              "    }\n",
              "  }\n",
              "</style>\n",
              "\n",
              "      <script>\n",
              "        async function quickchart(key) {\n",
              "          const quickchartButtonEl =\n",
              "            document.querySelector('#' + key + ' button');\n",
              "          quickchartButtonEl.disabled = true;  // To prevent multiple clicks.\n",
              "          quickchartButtonEl.classList.add('colab-df-spinner');\n",
              "          try {\n",
              "            const charts = await google.colab.kernel.invokeFunction(\n",
              "                'suggestCharts', [key], {});\n",
              "          } catch (error) {\n",
              "            console.error('Error during call to suggestCharts:', error);\n",
              "          }\n",
              "          quickchartButtonEl.classList.remove('colab-df-spinner');\n",
              "          quickchartButtonEl.classList.add('colab-df-quickchart-complete');\n",
              "        }\n",
              "        (() => {\n",
              "          let quickchartButtonEl =\n",
              "            document.querySelector('#df-9ae6ea6b-6b12-4a33-9a0d-b9f8629984bf button');\n",
              "          quickchartButtonEl.style.display =\n",
              "            google.colab.kernel.accessAllowed ? 'block' : 'none';\n",
              "        })();\n",
              "      </script>\n",
              "    </div>\n",
              "\n",
              "    </div>\n",
              "  </div>\n"
            ],
            "application/vnd.google.colaboratory.intrinsic+json": {
              "type": "dataframe",
              "variable_name": "df",
              "summary": "{\n  \"name\": \"df\",\n  \"rows\": 768,\n  \"fields\": [\n    {\n      \"column\": \"Pregnancies\",\n      \"properties\": {\n        \"dtype\": \"number\",\n        \"std\": 3,\n        \"min\": 0,\n        \"max\": 17,\n        \"num_unique_values\": 17,\n        \"samples\": [\n          6,\n          1,\n          3\n        ],\n        \"semantic_type\": \"\",\n        \"description\": \"\"\n      }\n    },\n    {\n      \"column\": \"Glucose\",\n      \"properties\": {\n        \"dtype\": \"number\",\n        \"std\": 31,\n        \"min\": 0,\n        \"max\": 199,\n        \"num_unique_values\": 136,\n        \"samples\": [\n          151,\n          101,\n          112\n        ],\n        \"semantic_type\": \"\",\n        \"description\": \"\"\n      }\n    },\n    {\n      \"column\": \"BloodPressure\",\n      \"properties\": {\n        \"dtype\": \"number\",\n        \"std\": 19,\n        \"min\": 0,\n        \"max\": 122,\n        \"num_unique_values\": 47,\n        \"samples\": [\n          86,\n          46,\n          85\n        ],\n        \"semantic_type\": \"\",\n        \"description\": \"\"\n      }\n    },\n    {\n      \"column\": \"SkinThickness\",\n      \"properties\": {\n        \"dtype\": \"number\",\n        \"std\": 15,\n        \"min\": 0,\n        \"max\": 99,\n        \"num_unique_values\": 51,\n        \"samples\": [\n          7,\n          12,\n          48\n        ],\n        \"semantic_type\": \"\",\n        \"description\": \"\"\n      }\n    },\n    {\n      \"column\": \"Insulin\",\n      \"properties\": {\n        \"dtype\": \"number\",\n        \"std\": 115,\n        \"min\": 0,\n        \"max\": 846,\n        \"num_unique_values\": 186,\n        \"samples\": [\n          52,\n          41,\n          183\n        ],\n        \"semantic_type\": \"\",\n        \"description\": \"\"\n      }\n    },\n    {\n      \"column\": \"BMI\",\n      \"properties\": {\n        \"dtype\": \"number\",\n        \"std\": 7.8841603203754405,\n        \"min\": 0.0,\n        \"max\": 67.1,\n        \"num_unique_values\": 248,\n        \"samples\": [\n          19.9,\n          31.0,\n          38.1\n        ],\n        \"semantic_type\": \"\",\n        \"description\": \"\"\n      }\n    },\n    {\n      \"column\": \"DiabetesPedigreeFunction\",\n      \"properties\": {\n        \"dtype\": \"number\",\n        \"std\": 0.33132859501277484,\n        \"min\": 0.078,\n        \"max\": 2.42,\n        \"num_unique_values\": 517,\n        \"samples\": [\n          1.731,\n          0.426,\n          0.138\n        ],\n        \"semantic_type\": \"\",\n        \"description\": \"\"\n      }\n    },\n    {\n      \"column\": \"Age\",\n      \"properties\": {\n        \"dtype\": \"number\",\n        \"std\": 11,\n        \"min\": 21,\n        \"max\": 81,\n        \"num_unique_values\": 52,\n        \"samples\": [\n          60,\n          47,\n          72\n        ],\n        \"semantic_type\": \"\",\n        \"description\": \"\"\n      }\n    },\n    {\n      \"column\": \"Outcome\",\n      \"properties\": {\n        \"dtype\": \"number\",\n        \"std\": 0,\n        \"min\": 0,\n        \"max\": 1,\n        \"num_unique_values\": 2,\n        \"samples\": [\n          0,\n          1\n        ],\n        \"semantic_type\": \"\",\n        \"description\": \"\"\n      }\n    }\n  ]\n}"
            }
          },
          "metadata": {},
          "execution_count": 9
        }
      ]
    },
    {
      "cell_type": "code",
      "source": [
        "df.shape"
      ],
      "metadata": {
        "colab": {
          "base_uri": "https://localhost:8080/"
        },
        "id": "wCPFoXtYCpMJ",
        "outputId": "3062d903-aea8-4893-8833-cb3490a1d229"
      },
      "execution_count": 10,
      "outputs": [
        {
          "output_type": "execute_result",
          "data": {
            "text/plain": [
              "(768, 9)"
            ]
          },
          "metadata": {},
          "execution_count": 10
        }
      ]
    },
    {
      "cell_type": "code",
      "source": [
        "df.info()"
      ],
      "metadata": {
        "colab": {
          "base_uri": "https://localhost:8080/"
        },
        "id": "eKPcMXzgB8OI",
        "outputId": "28f64793-ad02-492b-ff69-ed4eb3a9cb30"
      },
      "execution_count": 11,
      "outputs": [
        {
          "output_type": "stream",
          "name": "stdout",
          "text": [
            "<class 'pandas.core.frame.DataFrame'>\n",
            "RangeIndex: 768 entries, 0 to 767\n",
            "Data columns (total 9 columns):\n",
            " #   Column                    Non-Null Count  Dtype  \n",
            "---  ------                    --------------  -----  \n",
            " 0   Pregnancies               768 non-null    int64  \n",
            " 1   Glucose                   768 non-null    int64  \n",
            " 2   BloodPressure             768 non-null    int64  \n",
            " 3   SkinThickness             768 non-null    int64  \n",
            " 4   Insulin                   768 non-null    int64  \n",
            " 5   BMI                       768 non-null    float64\n",
            " 6   DiabetesPedigreeFunction  768 non-null    float64\n",
            " 7   Age                       768 non-null    int64  \n",
            " 8   Outcome                   768 non-null    int64  \n",
            "dtypes: float64(2), int64(7)\n",
            "memory usage: 54.1 KB\n"
          ]
        }
      ]
    },
    {
      "cell_type": "code",
      "source": [
        "df.describe()"
      ],
      "metadata": {
        "colab": {
          "base_uri": "https://localhost:8080/",
          "height": 317
        },
        "id": "UeEtCFUECAr3",
        "outputId": "9e6109b4-e09a-43ef-c422-b96e220d5113"
      },
      "execution_count": 12,
      "outputs": [
        {
          "output_type": "execute_result",
          "data": {
            "text/plain": [
              "       Pregnancies     Glucose  BloodPressure  SkinThickness     Insulin  \\\n",
              "count   768.000000  768.000000     768.000000     768.000000  768.000000   \n",
              "mean      3.845052  120.894531      69.105469      20.536458   79.799479   \n",
              "std       3.369578   31.972618      19.355807      15.952218  115.244002   \n",
              "min       0.000000    0.000000       0.000000       0.000000    0.000000   \n",
              "25%       1.000000   99.000000      62.000000       0.000000    0.000000   \n",
              "50%       3.000000  117.000000      72.000000      23.000000   30.500000   \n",
              "75%       6.000000  140.250000      80.000000      32.000000  127.250000   \n",
              "max      17.000000  199.000000     122.000000      99.000000  846.000000   \n",
              "\n",
              "              BMI  DiabetesPedigreeFunction         Age     Outcome  \n",
              "count  768.000000                768.000000  768.000000  768.000000  \n",
              "mean    31.992578                  0.471876   33.240885    0.348958  \n",
              "std      7.884160                  0.331329   11.760232    0.476951  \n",
              "min      0.000000                  0.078000   21.000000    0.000000  \n",
              "25%     27.300000                  0.243750   24.000000    0.000000  \n",
              "50%     32.000000                  0.372500   29.000000    0.000000  \n",
              "75%     36.600000                  0.626250   41.000000    1.000000  \n",
              "max     67.100000                  2.420000   81.000000    1.000000  "
            ],
            "text/html": [
              "\n",
              "  <div id=\"df-f3c0e1cf-20e2-47b8-bb62-4f0dc16eb19a\" class=\"colab-df-container\">\n",
              "    <div>\n",
              "<style scoped>\n",
              "    .dataframe tbody tr th:only-of-type {\n",
              "        vertical-align: middle;\n",
              "    }\n",
              "\n",
              "    .dataframe tbody tr th {\n",
              "        vertical-align: top;\n",
              "    }\n",
              "\n",
              "    .dataframe thead th {\n",
              "        text-align: right;\n",
              "    }\n",
              "</style>\n",
              "<table border=\"1\" class=\"dataframe\">\n",
              "  <thead>\n",
              "    <tr style=\"text-align: right;\">\n",
              "      <th></th>\n",
              "      <th>Pregnancies</th>\n",
              "      <th>Glucose</th>\n",
              "      <th>BloodPressure</th>\n",
              "      <th>SkinThickness</th>\n",
              "      <th>Insulin</th>\n",
              "      <th>BMI</th>\n",
              "      <th>DiabetesPedigreeFunction</th>\n",
              "      <th>Age</th>\n",
              "      <th>Outcome</th>\n",
              "    </tr>\n",
              "  </thead>\n",
              "  <tbody>\n",
              "    <tr>\n",
              "      <th>count</th>\n",
              "      <td>768.000000</td>\n",
              "      <td>768.000000</td>\n",
              "      <td>768.000000</td>\n",
              "      <td>768.000000</td>\n",
              "      <td>768.000000</td>\n",
              "      <td>768.000000</td>\n",
              "      <td>768.000000</td>\n",
              "      <td>768.000000</td>\n",
              "      <td>768.000000</td>\n",
              "    </tr>\n",
              "    <tr>\n",
              "      <th>mean</th>\n",
              "      <td>3.845052</td>\n",
              "      <td>120.894531</td>\n",
              "      <td>69.105469</td>\n",
              "      <td>20.536458</td>\n",
              "      <td>79.799479</td>\n",
              "      <td>31.992578</td>\n",
              "      <td>0.471876</td>\n",
              "      <td>33.240885</td>\n",
              "      <td>0.348958</td>\n",
              "    </tr>\n",
              "    <tr>\n",
              "      <th>std</th>\n",
              "      <td>3.369578</td>\n",
              "      <td>31.972618</td>\n",
              "      <td>19.355807</td>\n",
              "      <td>15.952218</td>\n",
              "      <td>115.244002</td>\n",
              "      <td>7.884160</td>\n",
              "      <td>0.331329</td>\n",
              "      <td>11.760232</td>\n",
              "      <td>0.476951</td>\n",
              "    </tr>\n",
              "    <tr>\n",
              "      <th>min</th>\n",
              "      <td>0.000000</td>\n",
              "      <td>0.000000</td>\n",
              "      <td>0.000000</td>\n",
              "      <td>0.000000</td>\n",
              "      <td>0.000000</td>\n",
              "      <td>0.000000</td>\n",
              "      <td>0.078000</td>\n",
              "      <td>21.000000</td>\n",
              "      <td>0.000000</td>\n",
              "    </tr>\n",
              "    <tr>\n",
              "      <th>25%</th>\n",
              "      <td>1.000000</td>\n",
              "      <td>99.000000</td>\n",
              "      <td>62.000000</td>\n",
              "      <td>0.000000</td>\n",
              "      <td>0.000000</td>\n",
              "      <td>27.300000</td>\n",
              "      <td>0.243750</td>\n",
              "      <td>24.000000</td>\n",
              "      <td>0.000000</td>\n",
              "    </tr>\n",
              "    <tr>\n",
              "      <th>50%</th>\n",
              "      <td>3.000000</td>\n",
              "      <td>117.000000</td>\n",
              "      <td>72.000000</td>\n",
              "      <td>23.000000</td>\n",
              "      <td>30.500000</td>\n",
              "      <td>32.000000</td>\n",
              "      <td>0.372500</td>\n",
              "      <td>29.000000</td>\n",
              "      <td>0.000000</td>\n",
              "    </tr>\n",
              "    <tr>\n",
              "      <th>75%</th>\n",
              "      <td>6.000000</td>\n",
              "      <td>140.250000</td>\n",
              "      <td>80.000000</td>\n",
              "      <td>32.000000</td>\n",
              "      <td>127.250000</td>\n",
              "      <td>36.600000</td>\n",
              "      <td>0.626250</td>\n",
              "      <td>41.000000</td>\n",
              "      <td>1.000000</td>\n",
              "    </tr>\n",
              "    <tr>\n",
              "      <th>max</th>\n",
              "      <td>17.000000</td>\n",
              "      <td>199.000000</td>\n",
              "      <td>122.000000</td>\n",
              "      <td>99.000000</td>\n",
              "      <td>846.000000</td>\n",
              "      <td>67.100000</td>\n",
              "      <td>2.420000</td>\n",
              "      <td>81.000000</td>\n",
              "      <td>1.000000</td>\n",
              "    </tr>\n",
              "  </tbody>\n",
              "</table>\n",
              "</div>\n",
              "    <div class=\"colab-df-buttons\">\n",
              "\n",
              "  <div class=\"colab-df-container\">\n",
              "    <button class=\"colab-df-convert\" onclick=\"convertToInteractive('df-f3c0e1cf-20e2-47b8-bb62-4f0dc16eb19a')\"\n",
              "            title=\"Convert this dataframe to an interactive table.\"\n",
              "            style=\"display:none;\">\n",
              "\n",
              "  <svg xmlns=\"http://www.w3.org/2000/svg\" height=\"24px\" viewBox=\"0 -960 960 960\">\n",
              "    <path d=\"M120-120v-720h720v720H120Zm60-500h600v-160H180v160Zm220 220h160v-160H400v160Zm0 220h160v-160H400v160ZM180-400h160v-160H180v160Zm440 0h160v-160H620v160ZM180-180h160v-160H180v160Zm440 0h160v-160H620v160Z\"/>\n",
              "  </svg>\n",
              "    </button>\n",
              "\n",
              "  <style>\n",
              "    .colab-df-container {\n",
              "      display:flex;\n",
              "      gap: 12px;\n",
              "    }\n",
              "\n",
              "    .colab-df-convert {\n",
              "      background-color: #E8F0FE;\n",
              "      border: none;\n",
              "      border-radius: 50%;\n",
              "      cursor: pointer;\n",
              "      display: none;\n",
              "      fill: #1967D2;\n",
              "      height: 32px;\n",
              "      padding: 0 0 0 0;\n",
              "      width: 32px;\n",
              "    }\n",
              "\n",
              "    .colab-df-convert:hover {\n",
              "      background-color: #E2EBFA;\n",
              "      box-shadow: 0px 1px 2px rgba(60, 64, 67, 0.3), 0px 1px 3px 1px rgba(60, 64, 67, 0.15);\n",
              "      fill: #174EA6;\n",
              "    }\n",
              "\n",
              "    .colab-df-buttons div {\n",
              "      margin-bottom: 4px;\n",
              "    }\n",
              "\n",
              "    [theme=dark] .colab-df-convert {\n",
              "      background-color: #3B4455;\n",
              "      fill: #D2E3FC;\n",
              "    }\n",
              "\n",
              "    [theme=dark] .colab-df-convert:hover {\n",
              "      background-color: #434B5C;\n",
              "      box-shadow: 0px 1px 3px 1px rgba(0, 0, 0, 0.15);\n",
              "      filter: drop-shadow(0px 1px 2px rgba(0, 0, 0, 0.3));\n",
              "      fill: #FFFFFF;\n",
              "    }\n",
              "  </style>\n",
              "\n",
              "    <script>\n",
              "      const buttonEl =\n",
              "        document.querySelector('#df-f3c0e1cf-20e2-47b8-bb62-4f0dc16eb19a button.colab-df-convert');\n",
              "      buttonEl.style.display =\n",
              "        google.colab.kernel.accessAllowed ? 'block' : 'none';\n",
              "\n",
              "      async function convertToInteractive(key) {\n",
              "        const element = document.querySelector('#df-f3c0e1cf-20e2-47b8-bb62-4f0dc16eb19a');\n",
              "        const dataTable =\n",
              "          await google.colab.kernel.invokeFunction('convertToInteractive',\n",
              "                                                    [key], {});\n",
              "        if (!dataTable) return;\n",
              "\n",
              "        const docLinkHtml = 'Like what you see? Visit the ' +\n",
              "          '<a target=\"_blank\" href=https://colab.research.google.com/notebooks/data_table.ipynb>data table notebook</a>'\n",
              "          + ' to learn more about interactive tables.';\n",
              "        element.innerHTML = '';\n",
              "        dataTable['output_type'] = 'display_data';\n",
              "        await google.colab.output.renderOutput(dataTable, element);\n",
              "        const docLink = document.createElement('div');\n",
              "        docLink.innerHTML = docLinkHtml;\n",
              "        element.appendChild(docLink);\n",
              "      }\n",
              "    </script>\n",
              "  </div>\n",
              "\n",
              "\n",
              "    <div id=\"df-44a43d8b-7bad-4258-bf43-1931b0d9e74d\">\n",
              "      <button class=\"colab-df-quickchart\" onclick=\"quickchart('df-44a43d8b-7bad-4258-bf43-1931b0d9e74d')\"\n",
              "                title=\"Suggest charts\"\n",
              "                style=\"display:none;\">\n",
              "\n",
              "<svg xmlns=\"http://www.w3.org/2000/svg\" height=\"24px\"viewBox=\"0 0 24 24\"\n",
              "     width=\"24px\">\n",
              "    <g>\n",
              "        <path d=\"M19 3H5c-1.1 0-2 .9-2 2v14c0 1.1.9 2 2 2h14c1.1 0 2-.9 2-2V5c0-1.1-.9-2-2-2zM9 17H7v-7h2v7zm4 0h-2V7h2v10zm4 0h-2v-4h2v4z\"/>\n",
              "    </g>\n",
              "</svg>\n",
              "      </button>\n",
              "\n",
              "<style>\n",
              "  .colab-df-quickchart {\n",
              "      --bg-color: #E8F0FE;\n",
              "      --fill-color: #1967D2;\n",
              "      --hover-bg-color: #E2EBFA;\n",
              "      --hover-fill-color: #174EA6;\n",
              "      --disabled-fill-color: #AAA;\n",
              "      --disabled-bg-color: #DDD;\n",
              "  }\n",
              "\n",
              "  [theme=dark] .colab-df-quickchart {\n",
              "      --bg-color: #3B4455;\n",
              "      --fill-color: #D2E3FC;\n",
              "      --hover-bg-color: #434B5C;\n",
              "      --hover-fill-color: #FFFFFF;\n",
              "      --disabled-bg-color: #3B4455;\n",
              "      --disabled-fill-color: #666;\n",
              "  }\n",
              "\n",
              "  .colab-df-quickchart {\n",
              "    background-color: var(--bg-color);\n",
              "    border: none;\n",
              "    border-radius: 50%;\n",
              "    cursor: pointer;\n",
              "    display: none;\n",
              "    fill: var(--fill-color);\n",
              "    height: 32px;\n",
              "    padding: 0;\n",
              "    width: 32px;\n",
              "  }\n",
              "\n",
              "  .colab-df-quickchart:hover {\n",
              "    background-color: var(--hover-bg-color);\n",
              "    box-shadow: 0 1px 2px rgba(60, 64, 67, 0.3), 0 1px 3px 1px rgba(60, 64, 67, 0.15);\n",
              "    fill: var(--button-hover-fill-color);\n",
              "  }\n",
              "\n",
              "  .colab-df-quickchart-complete:disabled,\n",
              "  .colab-df-quickchart-complete:disabled:hover {\n",
              "    background-color: var(--disabled-bg-color);\n",
              "    fill: var(--disabled-fill-color);\n",
              "    box-shadow: none;\n",
              "  }\n",
              "\n",
              "  .colab-df-spinner {\n",
              "    border: 2px solid var(--fill-color);\n",
              "    border-color: transparent;\n",
              "    border-bottom-color: var(--fill-color);\n",
              "    animation:\n",
              "      spin 1s steps(1) infinite;\n",
              "  }\n",
              "\n",
              "  @keyframes spin {\n",
              "    0% {\n",
              "      border-color: transparent;\n",
              "      border-bottom-color: var(--fill-color);\n",
              "      border-left-color: var(--fill-color);\n",
              "    }\n",
              "    20% {\n",
              "      border-color: transparent;\n",
              "      border-left-color: var(--fill-color);\n",
              "      border-top-color: var(--fill-color);\n",
              "    }\n",
              "    30% {\n",
              "      border-color: transparent;\n",
              "      border-left-color: var(--fill-color);\n",
              "      border-top-color: var(--fill-color);\n",
              "      border-right-color: var(--fill-color);\n",
              "    }\n",
              "    40% {\n",
              "      border-color: transparent;\n",
              "      border-right-color: var(--fill-color);\n",
              "      border-top-color: var(--fill-color);\n",
              "    }\n",
              "    60% {\n",
              "      border-color: transparent;\n",
              "      border-right-color: var(--fill-color);\n",
              "    }\n",
              "    80% {\n",
              "      border-color: transparent;\n",
              "      border-right-color: var(--fill-color);\n",
              "      border-bottom-color: var(--fill-color);\n",
              "    }\n",
              "    90% {\n",
              "      border-color: transparent;\n",
              "      border-bottom-color: var(--fill-color);\n",
              "    }\n",
              "  }\n",
              "</style>\n",
              "\n",
              "      <script>\n",
              "        async function quickchart(key) {\n",
              "          const quickchartButtonEl =\n",
              "            document.querySelector('#' + key + ' button');\n",
              "          quickchartButtonEl.disabled = true;  // To prevent multiple clicks.\n",
              "          quickchartButtonEl.classList.add('colab-df-spinner');\n",
              "          try {\n",
              "            const charts = await google.colab.kernel.invokeFunction(\n",
              "                'suggestCharts', [key], {});\n",
              "          } catch (error) {\n",
              "            console.error('Error during call to suggestCharts:', error);\n",
              "          }\n",
              "          quickchartButtonEl.classList.remove('colab-df-spinner');\n",
              "          quickchartButtonEl.classList.add('colab-df-quickchart-complete');\n",
              "        }\n",
              "        (() => {\n",
              "          let quickchartButtonEl =\n",
              "            document.querySelector('#df-44a43d8b-7bad-4258-bf43-1931b0d9e74d button');\n",
              "          quickchartButtonEl.style.display =\n",
              "            google.colab.kernel.accessAllowed ? 'block' : 'none';\n",
              "        })();\n",
              "      </script>\n",
              "    </div>\n",
              "\n",
              "    </div>\n",
              "  </div>\n"
            ],
            "application/vnd.google.colaboratory.intrinsic+json": {
              "type": "dataframe",
              "summary": "{\n  \"name\": \"df\",\n  \"rows\": 8,\n  \"fields\": [\n    {\n      \"column\": \"Pregnancies\",\n      \"properties\": {\n        \"dtype\": \"number\",\n        \"std\": 269.85223453356366,\n        \"min\": 0.0,\n        \"max\": 768.0,\n        \"num_unique_values\": 8,\n        \"samples\": [\n          3.8450520833333335,\n          3.0,\n          768.0\n        ],\n        \"semantic_type\": \"\",\n        \"description\": \"\"\n      }\n    },\n    {\n      \"column\": \"Glucose\",\n      \"properties\": {\n        \"dtype\": \"number\",\n        \"std\": 243.73802348295857,\n        \"min\": 0.0,\n        \"max\": 768.0,\n        \"num_unique_values\": 8,\n        \"samples\": [\n          120.89453125,\n          117.0,\n          768.0\n        ],\n        \"semantic_type\": \"\",\n        \"description\": \"\"\n      }\n    },\n    {\n      \"column\": \"BloodPressure\",\n      \"properties\": {\n        \"dtype\": \"number\",\n        \"std\": 252.85250535810619,\n        \"min\": 0.0,\n        \"max\": 768.0,\n        \"num_unique_values\": 8,\n        \"samples\": [\n          69.10546875,\n          72.0,\n          768.0\n        ],\n        \"semantic_type\": \"\",\n        \"description\": \"\"\n      }\n    },\n    {\n      \"column\": \"SkinThickness\",\n      \"properties\": {\n        \"dtype\": \"number\",\n        \"std\": 263.7684730531098,\n        \"min\": 0.0,\n        \"max\": 768.0,\n        \"num_unique_values\": 7,\n        \"samples\": [\n          768.0,\n          20.536458333333332,\n          32.0\n        ],\n        \"semantic_type\": \"\",\n        \"description\": \"\"\n      }\n    },\n    {\n      \"column\": \"Insulin\",\n      \"properties\": {\n        \"dtype\": \"number\",\n        \"std\": 350.26059167945886,\n        \"min\": 0.0,\n        \"max\": 846.0,\n        \"num_unique_values\": 7,\n        \"samples\": [\n          768.0,\n          79.79947916666667,\n          127.25\n        ],\n        \"semantic_type\": \"\",\n        \"description\": \"\"\n      }\n    },\n    {\n      \"column\": \"BMI\",\n      \"properties\": {\n        \"dtype\": \"number\",\n        \"std\": 262.05117817552093,\n        \"min\": 0.0,\n        \"max\": 768.0,\n        \"num_unique_values\": 8,\n        \"samples\": [\n          31.992578124999998,\n          32.0,\n          768.0\n        ],\n        \"semantic_type\": \"\",\n        \"description\": \"\"\n      }\n    },\n    {\n      \"column\": \"DiabetesPedigreeFunction\",\n      \"properties\": {\n        \"dtype\": \"number\",\n        \"std\": 271.3005221658502,\n        \"min\": 0.078,\n        \"max\": 768.0,\n        \"num_unique_values\": 8,\n        \"samples\": [\n          0.47187630208333325,\n          0.3725,\n          768.0\n        ],\n        \"semantic_type\": \"\",\n        \"description\": \"\"\n      }\n    },\n    {\n      \"column\": \"Age\",\n      \"properties\": {\n        \"dtype\": \"number\",\n        \"std\": 260.1941178528413,\n        \"min\": 11.76023154067868,\n        \"max\": 768.0,\n        \"num_unique_values\": 8,\n        \"samples\": [\n          33.240885416666664,\n          29.0,\n          768.0\n        ],\n        \"semantic_type\": \"\",\n        \"description\": \"\"\n      }\n    },\n    {\n      \"column\": \"Outcome\",\n      \"properties\": {\n        \"dtype\": \"number\",\n        \"std\": 271.3865920388932,\n        \"min\": 0.0,\n        \"max\": 768.0,\n        \"num_unique_values\": 5,\n        \"samples\": [\n          0.3489583333333333,\n          1.0,\n          0.4769513772427971\n        ],\n        \"semantic_type\": \"\",\n        \"description\": \"\"\n      }\n    }\n  ]\n}"
            }
          },
          "metadata": {},
          "execution_count": 12
        }
      ]
    },
    {
      "cell_type": "code",
      "source": [
        "df['Outcome'].value_counts()"
      ],
      "metadata": {
        "colab": {
          "base_uri": "https://localhost:8080/",
          "height": 213
        },
        "id": "PWeZHOVaDKrE",
        "outputId": "f21eec5f-9dbf-44fe-cd9a-7f970cdfd645"
      },
      "execution_count": 13,
      "outputs": [
        {
          "output_type": "execute_result",
          "data": {
            "text/plain": [
              "Outcome\n",
              "0    500\n",
              "1    268\n",
              "Name: count, dtype: int64"
            ],
            "text/html": [
              "<div>\n",
              "<style scoped>\n",
              "    .dataframe tbody tr th:only-of-type {\n",
              "        vertical-align: middle;\n",
              "    }\n",
              "\n",
              "    .dataframe tbody tr th {\n",
              "        vertical-align: top;\n",
              "    }\n",
              "\n",
              "    .dataframe thead th {\n",
              "        text-align: right;\n",
              "    }\n",
              "</style>\n",
              "<table border=\"1\" class=\"dataframe\">\n",
              "  <thead>\n",
              "    <tr style=\"text-align: right;\">\n",
              "      <th></th>\n",
              "      <th>count</th>\n",
              "    </tr>\n",
              "    <tr>\n",
              "      <th>Outcome</th>\n",
              "      <th></th>\n",
              "    </tr>\n",
              "  </thead>\n",
              "  <tbody>\n",
              "    <tr>\n",
              "      <th>0</th>\n",
              "      <td>500</td>\n",
              "    </tr>\n",
              "    <tr>\n",
              "      <th>1</th>\n",
              "      <td>268</td>\n",
              "    </tr>\n",
              "  </tbody>\n",
              "</table>\n",
              "</div><br><label><b>dtype:</b> int64</label>"
            ]
          },
          "metadata": {},
          "execution_count": 13
        }
      ]
    },
    {
      "cell_type": "code",
      "source": [
        "df['Outcome'].value_counts(normalize=True) * 100"
      ],
      "metadata": {
        "colab": {
          "base_uri": "https://localhost:8080/",
          "height": 213
        },
        "id": "KutrrOPvDgl8",
        "outputId": "0bdc7ff9-5830-423a-c69d-fd47b66fbc22"
      },
      "execution_count": 14,
      "outputs": [
        {
          "output_type": "execute_result",
          "data": {
            "text/plain": [
              "Outcome\n",
              "0    65.104167\n",
              "1    34.895833\n",
              "Name: proportion, dtype: float64"
            ],
            "text/html": [
              "<div>\n",
              "<style scoped>\n",
              "    .dataframe tbody tr th:only-of-type {\n",
              "        vertical-align: middle;\n",
              "    }\n",
              "\n",
              "    .dataframe tbody tr th {\n",
              "        vertical-align: top;\n",
              "    }\n",
              "\n",
              "    .dataframe thead th {\n",
              "        text-align: right;\n",
              "    }\n",
              "</style>\n",
              "<table border=\"1\" class=\"dataframe\">\n",
              "  <thead>\n",
              "    <tr style=\"text-align: right;\">\n",
              "      <th></th>\n",
              "      <th>proportion</th>\n",
              "    </tr>\n",
              "    <tr>\n",
              "      <th>Outcome</th>\n",
              "      <th></th>\n",
              "    </tr>\n",
              "  </thead>\n",
              "  <tbody>\n",
              "    <tr>\n",
              "      <th>0</th>\n",
              "      <td>65.104167</td>\n",
              "    </tr>\n",
              "    <tr>\n",
              "      <th>1</th>\n",
              "      <td>34.895833</td>\n",
              "    </tr>\n",
              "  </tbody>\n",
              "</table>\n",
              "</div><br><label><b>dtype:</b> float64</label>"
            ]
          },
          "metadata": {},
          "execution_count": 14
        }
      ]
    },
    {
      "cell_type": "markdown",
      "source": [
        "good point to group datasets based on their labels"
      ],
      "metadata": {
        "id": "395DLX3KEmKD"
      }
    },
    {
      "cell_type": "code",
      "source": [
        "df.groupby('Outcome').mean()"
      ],
      "metadata": {
        "colab": {
          "base_uri": "https://localhost:8080/",
          "height": 162
        },
        "id": "UpV_aXZrEWWQ",
        "outputId": "a8b912f4-1dbe-4316-ae93-0fdd347b9402"
      },
      "execution_count": 15,
      "outputs": [
        {
          "output_type": "execute_result",
          "data": {
            "text/plain": [
              "         Pregnancies     Glucose  BloodPressure  SkinThickness     Insulin  \\\n",
              "Outcome                                                                      \n",
              "0           3.298000  109.980000      68.184000      19.664000   68.792000   \n",
              "1           4.865672  141.257463      70.824627      22.164179  100.335821   \n",
              "\n",
              "               BMI  DiabetesPedigreeFunction        Age  \n",
              "Outcome                                                  \n",
              "0        30.304200                  0.429734  31.190000  \n",
              "1        35.142537                  0.550500  37.067164  "
            ],
            "text/html": [
              "\n",
              "  <div id=\"df-cde66dcf-12c3-46c8-9ddc-c05fc5cb9d47\" class=\"colab-df-container\">\n",
              "    <div>\n",
              "<style scoped>\n",
              "    .dataframe tbody tr th:only-of-type {\n",
              "        vertical-align: middle;\n",
              "    }\n",
              "\n",
              "    .dataframe tbody tr th {\n",
              "        vertical-align: top;\n",
              "    }\n",
              "\n",
              "    .dataframe thead th {\n",
              "        text-align: right;\n",
              "    }\n",
              "</style>\n",
              "<table border=\"1\" class=\"dataframe\">\n",
              "  <thead>\n",
              "    <tr style=\"text-align: right;\">\n",
              "      <th></th>\n",
              "      <th>Pregnancies</th>\n",
              "      <th>Glucose</th>\n",
              "      <th>BloodPressure</th>\n",
              "      <th>SkinThickness</th>\n",
              "      <th>Insulin</th>\n",
              "      <th>BMI</th>\n",
              "      <th>DiabetesPedigreeFunction</th>\n",
              "      <th>Age</th>\n",
              "    </tr>\n",
              "    <tr>\n",
              "      <th>Outcome</th>\n",
              "      <th></th>\n",
              "      <th></th>\n",
              "      <th></th>\n",
              "      <th></th>\n",
              "      <th></th>\n",
              "      <th></th>\n",
              "      <th></th>\n",
              "      <th></th>\n",
              "    </tr>\n",
              "  </thead>\n",
              "  <tbody>\n",
              "    <tr>\n",
              "      <th>0</th>\n",
              "      <td>3.298000</td>\n",
              "      <td>109.980000</td>\n",
              "      <td>68.184000</td>\n",
              "      <td>19.664000</td>\n",
              "      <td>68.792000</td>\n",
              "      <td>30.304200</td>\n",
              "      <td>0.429734</td>\n",
              "      <td>31.190000</td>\n",
              "    </tr>\n",
              "    <tr>\n",
              "      <th>1</th>\n",
              "      <td>4.865672</td>\n",
              "      <td>141.257463</td>\n",
              "      <td>70.824627</td>\n",
              "      <td>22.164179</td>\n",
              "      <td>100.335821</td>\n",
              "      <td>35.142537</td>\n",
              "      <td>0.550500</td>\n",
              "      <td>37.067164</td>\n",
              "    </tr>\n",
              "  </tbody>\n",
              "</table>\n",
              "</div>\n",
              "    <div class=\"colab-df-buttons\">\n",
              "\n",
              "  <div class=\"colab-df-container\">\n",
              "    <button class=\"colab-df-convert\" onclick=\"convertToInteractive('df-cde66dcf-12c3-46c8-9ddc-c05fc5cb9d47')\"\n",
              "            title=\"Convert this dataframe to an interactive table.\"\n",
              "            style=\"display:none;\">\n",
              "\n",
              "  <svg xmlns=\"http://www.w3.org/2000/svg\" height=\"24px\" viewBox=\"0 -960 960 960\">\n",
              "    <path d=\"M120-120v-720h720v720H120Zm60-500h600v-160H180v160Zm220 220h160v-160H400v160Zm0 220h160v-160H400v160ZM180-400h160v-160H180v160Zm440 0h160v-160H620v160ZM180-180h160v-160H180v160Zm440 0h160v-160H620v160Z\"/>\n",
              "  </svg>\n",
              "    </button>\n",
              "\n",
              "  <style>\n",
              "    .colab-df-container {\n",
              "      display:flex;\n",
              "      gap: 12px;\n",
              "    }\n",
              "\n",
              "    .colab-df-convert {\n",
              "      background-color: #E8F0FE;\n",
              "      border: none;\n",
              "      border-radius: 50%;\n",
              "      cursor: pointer;\n",
              "      display: none;\n",
              "      fill: #1967D2;\n",
              "      height: 32px;\n",
              "      padding: 0 0 0 0;\n",
              "      width: 32px;\n",
              "    }\n",
              "\n",
              "    .colab-df-convert:hover {\n",
              "      background-color: #E2EBFA;\n",
              "      box-shadow: 0px 1px 2px rgba(60, 64, 67, 0.3), 0px 1px 3px 1px rgba(60, 64, 67, 0.15);\n",
              "      fill: #174EA6;\n",
              "    }\n",
              "\n",
              "    .colab-df-buttons div {\n",
              "      margin-bottom: 4px;\n",
              "    }\n",
              "\n",
              "    [theme=dark] .colab-df-convert {\n",
              "      background-color: #3B4455;\n",
              "      fill: #D2E3FC;\n",
              "    }\n",
              "\n",
              "    [theme=dark] .colab-df-convert:hover {\n",
              "      background-color: #434B5C;\n",
              "      box-shadow: 0px 1px 3px 1px rgba(0, 0, 0, 0.15);\n",
              "      filter: drop-shadow(0px 1px 2px rgba(0, 0, 0, 0.3));\n",
              "      fill: #FFFFFF;\n",
              "    }\n",
              "  </style>\n",
              "\n",
              "    <script>\n",
              "      const buttonEl =\n",
              "        document.querySelector('#df-cde66dcf-12c3-46c8-9ddc-c05fc5cb9d47 button.colab-df-convert');\n",
              "      buttonEl.style.display =\n",
              "        google.colab.kernel.accessAllowed ? 'block' : 'none';\n",
              "\n",
              "      async function convertToInteractive(key) {\n",
              "        const element = document.querySelector('#df-cde66dcf-12c3-46c8-9ddc-c05fc5cb9d47');\n",
              "        const dataTable =\n",
              "          await google.colab.kernel.invokeFunction('convertToInteractive',\n",
              "                                                    [key], {});\n",
              "        if (!dataTable) return;\n",
              "\n",
              "        const docLinkHtml = 'Like what you see? Visit the ' +\n",
              "          '<a target=\"_blank\" href=https://colab.research.google.com/notebooks/data_table.ipynb>data table notebook</a>'\n",
              "          + ' to learn more about interactive tables.';\n",
              "        element.innerHTML = '';\n",
              "        dataTable['output_type'] = 'display_data';\n",
              "        await google.colab.output.renderOutput(dataTable, element);\n",
              "        const docLink = document.createElement('div');\n",
              "        docLink.innerHTML = docLinkHtml;\n",
              "        element.appendChild(docLink);\n",
              "      }\n",
              "    </script>\n",
              "  </div>\n",
              "\n",
              "\n",
              "    <div id=\"df-f518b6ef-01cf-4291-9ae3-412855a19e5b\">\n",
              "      <button class=\"colab-df-quickchart\" onclick=\"quickchart('df-f518b6ef-01cf-4291-9ae3-412855a19e5b')\"\n",
              "                title=\"Suggest charts\"\n",
              "                style=\"display:none;\">\n",
              "\n",
              "<svg xmlns=\"http://www.w3.org/2000/svg\" height=\"24px\"viewBox=\"0 0 24 24\"\n",
              "     width=\"24px\">\n",
              "    <g>\n",
              "        <path d=\"M19 3H5c-1.1 0-2 .9-2 2v14c0 1.1.9 2 2 2h14c1.1 0 2-.9 2-2V5c0-1.1-.9-2-2-2zM9 17H7v-7h2v7zm4 0h-2V7h2v10zm4 0h-2v-4h2v4z\"/>\n",
              "    </g>\n",
              "</svg>\n",
              "      </button>\n",
              "\n",
              "<style>\n",
              "  .colab-df-quickchart {\n",
              "      --bg-color: #E8F0FE;\n",
              "      --fill-color: #1967D2;\n",
              "      --hover-bg-color: #E2EBFA;\n",
              "      --hover-fill-color: #174EA6;\n",
              "      --disabled-fill-color: #AAA;\n",
              "      --disabled-bg-color: #DDD;\n",
              "  }\n",
              "\n",
              "  [theme=dark] .colab-df-quickchart {\n",
              "      --bg-color: #3B4455;\n",
              "      --fill-color: #D2E3FC;\n",
              "      --hover-bg-color: #434B5C;\n",
              "      --hover-fill-color: #FFFFFF;\n",
              "      --disabled-bg-color: #3B4455;\n",
              "      --disabled-fill-color: #666;\n",
              "  }\n",
              "\n",
              "  .colab-df-quickchart {\n",
              "    background-color: var(--bg-color);\n",
              "    border: none;\n",
              "    border-radius: 50%;\n",
              "    cursor: pointer;\n",
              "    display: none;\n",
              "    fill: var(--fill-color);\n",
              "    height: 32px;\n",
              "    padding: 0;\n",
              "    width: 32px;\n",
              "  }\n",
              "\n",
              "  .colab-df-quickchart:hover {\n",
              "    background-color: var(--hover-bg-color);\n",
              "    box-shadow: 0 1px 2px rgba(60, 64, 67, 0.3), 0 1px 3px 1px rgba(60, 64, 67, 0.15);\n",
              "    fill: var(--button-hover-fill-color);\n",
              "  }\n",
              "\n",
              "  .colab-df-quickchart-complete:disabled,\n",
              "  .colab-df-quickchart-complete:disabled:hover {\n",
              "    background-color: var(--disabled-bg-color);\n",
              "    fill: var(--disabled-fill-color);\n",
              "    box-shadow: none;\n",
              "  }\n",
              "\n",
              "  .colab-df-spinner {\n",
              "    border: 2px solid var(--fill-color);\n",
              "    border-color: transparent;\n",
              "    border-bottom-color: var(--fill-color);\n",
              "    animation:\n",
              "      spin 1s steps(1) infinite;\n",
              "  }\n",
              "\n",
              "  @keyframes spin {\n",
              "    0% {\n",
              "      border-color: transparent;\n",
              "      border-bottom-color: var(--fill-color);\n",
              "      border-left-color: var(--fill-color);\n",
              "    }\n",
              "    20% {\n",
              "      border-color: transparent;\n",
              "      border-left-color: var(--fill-color);\n",
              "      border-top-color: var(--fill-color);\n",
              "    }\n",
              "    30% {\n",
              "      border-color: transparent;\n",
              "      border-left-color: var(--fill-color);\n",
              "      border-top-color: var(--fill-color);\n",
              "      border-right-color: var(--fill-color);\n",
              "    }\n",
              "    40% {\n",
              "      border-color: transparent;\n",
              "      border-right-color: var(--fill-color);\n",
              "      border-top-color: var(--fill-color);\n",
              "    }\n",
              "    60% {\n",
              "      border-color: transparent;\n",
              "      border-right-color: var(--fill-color);\n",
              "    }\n",
              "    80% {\n",
              "      border-color: transparent;\n",
              "      border-right-color: var(--fill-color);\n",
              "      border-bottom-color: var(--fill-color);\n",
              "    }\n",
              "    90% {\n",
              "      border-color: transparent;\n",
              "      border-bottom-color: var(--fill-color);\n",
              "    }\n",
              "  }\n",
              "</style>\n",
              "\n",
              "      <script>\n",
              "        async function quickchart(key) {\n",
              "          const quickchartButtonEl =\n",
              "            document.querySelector('#' + key + ' button');\n",
              "          quickchartButtonEl.disabled = true;  // To prevent multiple clicks.\n",
              "          quickchartButtonEl.classList.add('colab-df-spinner');\n",
              "          try {\n",
              "            const charts = await google.colab.kernel.invokeFunction(\n",
              "                'suggestCharts', [key], {});\n",
              "          } catch (error) {\n",
              "            console.error('Error during call to suggestCharts:', error);\n",
              "          }\n",
              "          quickchartButtonEl.classList.remove('colab-df-spinner');\n",
              "          quickchartButtonEl.classList.add('colab-df-quickchart-complete');\n",
              "        }\n",
              "        (() => {\n",
              "          let quickchartButtonEl =\n",
              "            document.querySelector('#df-f518b6ef-01cf-4291-9ae3-412855a19e5b button');\n",
              "          quickchartButtonEl.style.display =\n",
              "            google.colab.kernel.accessAllowed ? 'block' : 'none';\n",
              "        })();\n",
              "      </script>\n",
              "    </div>\n",
              "\n",
              "    </div>\n",
              "  </div>\n"
            ],
            "application/vnd.google.colaboratory.intrinsic+json": {
              "type": "dataframe",
              "summary": "{\n  \"name\": \"df\",\n  \"rows\": 2,\n  \"fields\": [\n    {\n      \"column\": \"Outcome\",\n      \"properties\": {\n        \"dtype\": \"number\",\n        \"std\": 0,\n        \"min\": 0,\n        \"max\": 1,\n        \"num_unique_values\": 2,\n        \"samples\": [\n          1,\n          0\n        ],\n        \"semantic_type\": \"\",\n        \"description\": \"\"\n      }\n    },\n    {\n      \"column\": \"Pregnancies\",\n      \"properties\": {\n        \"dtype\": \"number\",\n        \"std\": 1.108511248584296,\n        \"min\": 3.298,\n        \"max\": 4.865671641791045,\n        \"num_unique_values\": 2,\n        \"samples\": [\n          4.865671641791045,\n          3.298\n        ],\n        \"semantic_type\": \"\",\n        \"description\": \"\"\n      }\n    },\n    {\n      \"column\": \"Glucose\",\n      \"properties\": {\n        \"dtype\": \"number\",\n        \"std\": 22.116505963980842,\n        \"min\": 109.98,\n        \"max\": 141.25746268656715,\n        \"num_unique_values\": 2,\n        \"samples\": [\n          141.25746268656715,\n          109.98\n        ],\n        \"semantic_type\": \"\",\n        \"description\": \"\"\n      }\n    },\n    {\n      \"column\": \"BloodPressure\",\n      \"properties\": {\n        \"dtype\": \"number\",\n        \"std\": 1.8672051632998017,\n        \"min\": 68.184,\n        \"max\": 70.82462686567165,\n        \"num_unique_values\": 2,\n        \"samples\": [\n          70.82462686567165,\n          68.184\n        ],\n        \"semantic_type\": \"\",\n        \"description\": \"\"\n      }\n    },\n    {\n      \"column\": \"SkinThickness\",\n      \"properties\": {\n        \"dtype\": \"number\",\n        \"std\": 1.7678935989570275,\n        \"min\": 19.664,\n        \"max\": 22.16417910447761,\n        \"num_unique_values\": 2,\n        \"samples\": [\n          22.16417910447761,\n          19.664\n        ],\n        \"semantic_type\": \"\",\n        \"description\": \"\"\n      }\n    },\n    {\n      \"column\": \"Insulin\",\n      \"properties\": {\n        \"dtype\": \"number\",\n        \"std\": 22.304849659757796,\n        \"min\": 68.792,\n        \"max\": 100.33582089552239,\n        \"num_unique_values\": 2,\n        \"samples\": [\n          100.33582089552239,\n          68.792\n        ],\n        \"semantic_type\": \"\",\n        \"description\": \"\"\n      }\n    },\n    {\n      \"column\": \"BMI\",\n      \"properties\": {\n        \"dtype\": \"number\",\n        \"std\": 3.4212211239962618,\n        \"min\": 30.3042,\n        \"max\": 35.14253731343284,\n        \"num_unique_values\": 2,\n        \"samples\": [\n          35.14253731343284,\n          30.3042\n        ],\n        \"semantic_type\": \"\",\n        \"description\": \"\"\n      }\n    },\n    {\n      \"column\": \"DiabetesPedigreeFunction\",\n      \"properties\": {\n        \"dtype\": \"number\",\n        \"std\": 0.08539445753677459,\n        \"min\": 0.429734,\n        \"max\": 0.5505,\n        \"num_unique_values\": 2,\n        \"samples\": [\n          0.5505,\n          0.429734\n        ],\n        \"semantic_type\": \"\",\n        \"description\": \"\"\n      }\n    },\n    {\n      \"column\": \"Age\",\n      \"properties\": {\n        \"dtype\": \"number\",\n        \"std\": 4.155782645191446,\n        \"min\": 31.19,\n        \"max\": 37.06716417910448,\n        \"num_unique_values\": 2,\n        \"samples\": [\n          37.06716417910448,\n          31.19\n        ],\n        \"semantic_type\": \"\",\n        \"description\": \"\"\n      }\n    }\n  ]\n}"
            }
          },
          "metadata": {},
          "execution_count": 15
        }
      ]
    },
    {
      "cell_type": "markdown",
      "source": [
        "## **Data Cleaning & Preprocessing**"
      ],
      "metadata": {
        "id": "C-NF1x2_DrTq"
      }
    },
    {
      "cell_type": "code",
      "source": [
        "df.duplicated().sum()"
      ],
      "metadata": {
        "colab": {
          "base_uri": "https://localhost:8080/"
        },
        "id": "rTuHOxhqKRRd",
        "outputId": "5a0cf655-af08-435f-b9d2-b6ae58222b1f"
      },
      "execution_count": 16,
      "outputs": [
        {
          "output_type": "execute_result",
          "data": {
            "text/plain": [
              "np.int64(0)"
            ]
          },
          "metadata": {},
          "execution_count": 16
        }
      ]
    },
    {
      "cell_type": "markdown",
      "source": [
        "Handling Null values"
      ],
      "metadata": {
        "id": "HUW1do3iqeHy"
      }
    },
    {
      "cell_type": "code",
      "source": [
        "df.isnull().sum()"
      ],
      "metadata": {
        "colab": {
          "base_uri": "https://localhost:8080/",
          "height": 399
        },
        "id": "ZW8ucZwECFUP",
        "outputId": "94d36a4f-3a4a-401e-bfde-e762a484f77e"
      },
      "execution_count": 17,
      "outputs": [
        {
          "output_type": "execute_result",
          "data": {
            "text/plain": [
              "Pregnancies                 0\n",
              "Glucose                     0\n",
              "BloodPressure               0\n",
              "SkinThickness               0\n",
              "Insulin                     0\n",
              "BMI                         0\n",
              "DiabetesPedigreeFunction    0\n",
              "Age                         0\n",
              "Outcome                     0\n",
              "dtype: int64"
            ],
            "text/html": [
              "<div>\n",
              "<style scoped>\n",
              "    .dataframe tbody tr th:only-of-type {\n",
              "        vertical-align: middle;\n",
              "    }\n",
              "\n",
              "    .dataframe tbody tr th {\n",
              "        vertical-align: top;\n",
              "    }\n",
              "\n",
              "    .dataframe thead th {\n",
              "        text-align: right;\n",
              "    }\n",
              "</style>\n",
              "<table border=\"1\" class=\"dataframe\">\n",
              "  <thead>\n",
              "    <tr style=\"text-align: right;\">\n",
              "      <th></th>\n",
              "      <th>0</th>\n",
              "    </tr>\n",
              "  </thead>\n",
              "  <tbody>\n",
              "    <tr>\n",
              "      <th>Pregnancies</th>\n",
              "      <td>0</td>\n",
              "    </tr>\n",
              "    <tr>\n",
              "      <th>Glucose</th>\n",
              "      <td>0</td>\n",
              "    </tr>\n",
              "    <tr>\n",
              "      <th>BloodPressure</th>\n",
              "      <td>0</td>\n",
              "    </tr>\n",
              "    <tr>\n",
              "      <th>SkinThickness</th>\n",
              "      <td>0</td>\n",
              "    </tr>\n",
              "    <tr>\n",
              "      <th>Insulin</th>\n",
              "      <td>0</td>\n",
              "    </tr>\n",
              "    <tr>\n",
              "      <th>BMI</th>\n",
              "      <td>0</td>\n",
              "    </tr>\n",
              "    <tr>\n",
              "      <th>DiabetesPedigreeFunction</th>\n",
              "      <td>0</td>\n",
              "    </tr>\n",
              "    <tr>\n",
              "      <th>Age</th>\n",
              "      <td>0</td>\n",
              "    </tr>\n",
              "    <tr>\n",
              "      <th>Outcome</th>\n",
              "      <td>0</td>\n",
              "    </tr>\n",
              "  </tbody>\n",
              "</table>\n",
              "</div><br><label><b>dtype:</b> int64</label>"
            ]
          },
          "metadata": {},
          "execution_count": 17
        }
      ]
    },
    {
      "cell_type": "code",
      "source": [
        "# Count how many zeros in each column\n",
        "(df == 0).sum()\n"
      ],
      "metadata": {
        "colab": {
          "base_uri": "https://localhost:8080/",
          "height": 399
        },
        "id": "WsjuWnV1FZVH",
        "outputId": "1d7b62e4-a1a3-4809-ebdb-2bf17b4ff1b0"
      },
      "execution_count": 18,
      "outputs": [
        {
          "output_type": "execute_result",
          "data": {
            "text/plain": [
              "Pregnancies                 111\n",
              "Glucose                       5\n",
              "BloodPressure                35\n",
              "SkinThickness               227\n",
              "Insulin                     374\n",
              "BMI                          11\n",
              "DiabetesPedigreeFunction      0\n",
              "Age                           0\n",
              "Outcome                     500\n",
              "dtype: int64"
            ],
            "text/html": [
              "<div>\n",
              "<style scoped>\n",
              "    .dataframe tbody tr th:only-of-type {\n",
              "        vertical-align: middle;\n",
              "    }\n",
              "\n",
              "    .dataframe tbody tr th {\n",
              "        vertical-align: top;\n",
              "    }\n",
              "\n",
              "    .dataframe thead th {\n",
              "        text-align: right;\n",
              "    }\n",
              "</style>\n",
              "<table border=\"1\" class=\"dataframe\">\n",
              "  <thead>\n",
              "    <tr style=\"text-align: right;\">\n",
              "      <th></th>\n",
              "      <th>0</th>\n",
              "    </tr>\n",
              "  </thead>\n",
              "  <tbody>\n",
              "    <tr>\n",
              "      <th>Pregnancies</th>\n",
              "      <td>111</td>\n",
              "    </tr>\n",
              "    <tr>\n",
              "      <th>Glucose</th>\n",
              "      <td>5</td>\n",
              "    </tr>\n",
              "    <tr>\n",
              "      <th>BloodPressure</th>\n",
              "      <td>35</td>\n",
              "    </tr>\n",
              "    <tr>\n",
              "      <th>SkinThickness</th>\n",
              "      <td>227</td>\n",
              "    </tr>\n",
              "    <tr>\n",
              "      <th>Insulin</th>\n",
              "      <td>374</td>\n",
              "    </tr>\n",
              "    <tr>\n",
              "      <th>BMI</th>\n",
              "      <td>11</td>\n",
              "    </tr>\n",
              "    <tr>\n",
              "      <th>DiabetesPedigreeFunction</th>\n",
              "      <td>0</td>\n",
              "    </tr>\n",
              "    <tr>\n",
              "      <th>Age</th>\n",
              "      <td>0</td>\n",
              "    </tr>\n",
              "    <tr>\n",
              "      <th>Outcome</th>\n",
              "      <td>500</td>\n",
              "    </tr>\n",
              "  </tbody>\n",
              "</table>\n",
              "</div><br><label><b>dtype:</b> int64</label>"
            ]
          },
          "metadata": {},
          "execution_count": 18
        }
      ]
    },
    {
      "cell_type": "code",
      "source": [
        "cols_with_missing = ['Glucose', 'BloodPressure', 'SkinThickness','Insulin', 'BMI' ]\n",
        "df[cols_with_missing] = df[cols_with_missing].replace(0, np.nan)"
      ],
      "metadata": {
        "id": "V74d-RnGFjZw"
      },
      "execution_count": 19,
      "outputs": []
    },
    {
      "cell_type": "code",
      "source": [
        "(df==0).sum()"
      ],
      "metadata": {
        "colab": {
          "base_uri": "https://localhost:8080/",
          "height": 399
        },
        "id": "DBZn72PwGGxG",
        "outputId": "98a23516-e450-401f-daab-564bb6166c98"
      },
      "execution_count": 20,
      "outputs": [
        {
          "output_type": "execute_result",
          "data": {
            "text/plain": [
              "Pregnancies                 111\n",
              "Glucose                       0\n",
              "BloodPressure                 0\n",
              "SkinThickness                 0\n",
              "Insulin                       0\n",
              "BMI                           0\n",
              "DiabetesPedigreeFunction      0\n",
              "Age                           0\n",
              "Outcome                     500\n",
              "dtype: int64"
            ],
            "text/html": [
              "<div>\n",
              "<style scoped>\n",
              "    .dataframe tbody tr th:only-of-type {\n",
              "        vertical-align: middle;\n",
              "    }\n",
              "\n",
              "    .dataframe tbody tr th {\n",
              "        vertical-align: top;\n",
              "    }\n",
              "\n",
              "    .dataframe thead th {\n",
              "        text-align: right;\n",
              "    }\n",
              "</style>\n",
              "<table border=\"1\" class=\"dataframe\">\n",
              "  <thead>\n",
              "    <tr style=\"text-align: right;\">\n",
              "      <th></th>\n",
              "      <th>0</th>\n",
              "    </tr>\n",
              "  </thead>\n",
              "  <tbody>\n",
              "    <tr>\n",
              "      <th>Pregnancies</th>\n",
              "      <td>111</td>\n",
              "    </tr>\n",
              "    <tr>\n",
              "      <th>Glucose</th>\n",
              "      <td>0</td>\n",
              "    </tr>\n",
              "    <tr>\n",
              "      <th>BloodPressure</th>\n",
              "      <td>0</td>\n",
              "    </tr>\n",
              "    <tr>\n",
              "      <th>SkinThickness</th>\n",
              "      <td>0</td>\n",
              "    </tr>\n",
              "    <tr>\n",
              "      <th>Insulin</th>\n",
              "      <td>0</td>\n",
              "    </tr>\n",
              "    <tr>\n",
              "      <th>BMI</th>\n",
              "      <td>0</td>\n",
              "    </tr>\n",
              "    <tr>\n",
              "      <th>DiabetesPedigreeFunction</th>\n",
              "      <td>0</td>\n",
              "    </tr>\n",
              "    <tr>\n",
              "      <th>Age</th>\n",
              "      <td>0</td>\n",
              "    </tr>\n",
              "    <tr>\n",
              "      <th>Outcome</th>\n",
              "      <td>500</td>\n",
              "    </tr>\n",
              "  </tbody>\n",
              "</table>\n",
              "</div><br><label><b>dtype:</b> int64</label>"
            ]
          },
          "metadata": {},
          "execution_count": 20
        }
      ]
    },
    {
      "cell_type": "markdown",
      "source": [
        "**Imputing NaN values:**\n",
        "\n",
        "General Rules for Choosing Mean vs. Median:\n",
        "\n",
        "Mean imputation:\n",
        "\n",
        "- Good if the feature is normally distributed (symmetric, bell-shaped).\n",
        "Sensitive to outliers (e.g., a few very large insulin values will pull the mean upward).\n",
        "\n",
        "Median imputation:\n",
        "- Good if the feature is skewed or has outliers.\n",
        "More robust in medical data (since health metrics often have skew).\n",
        "\n",
        "In medical datasets (like glucose, insulin, skin thickness, BMI), distributions are usually skewed, so median is safer.\n",
        "\n",
        "We can check the distribution of each column with a histogram:"
      ],
      "metadata": {
        "id": "WG2xEPDUIlyO"
      }
    },
    {
      "cell_type": "markdown",
      "source": [
        "**What should be the figsize?**\n",
        "\n",
        "If you plot only the 5 columns with missing values → (12,8) is perfect.\n",
        "\n",
        "If you plot all features at once using df.hist() → (20,20) works better."
      ],
      "metadata": {
        "id": "cmyJ-MykIaiK"
      }
    },
    {
      "cell_type": "markdown",
      "source": [
        "**Effect of Different Bins:**\n",
        "\n",
        "Example for Glucose column:\n",
        "- bins=10 → histogram looks blocky, hides detail.\n",
        "- bins=30 → smoother view, enough detail to see skewness.\n",
        "- bins=100 → too detailed, lots of empty bars (especially with small datasets).\n",
        "\n",
        "**How to Choose the Right Number of Bins**\n",
        "\n",
        "There are some statistical rules:\n",
        "\n",
        "- Sturges’ Rule:\n",
        "\n",
        "bins = log2(n) + 1\n",
        "\n",
        "For 768 rows → ≈ 10 bins.\n",
        "\n",
        "- Square-root Rule:\n",
        "\n",
        "bins = sqrt(n)\n",
        "\n",
        "For 768 rows → ≈ 28 bins (close to 30).\n",
        "\n",
        "- Freedman Diaconis Rule:\n",
        "\n",
        "Based on data spread (IQR) and sample size, often gives 20–40 bins.\n",
        "\n",
        "That’s why 30 is a practical choice — it’s close to what theory suggests for medium datasets."
      ],
      "metadata": {
        "id": "0tZggJ4CJKmz"
      }
    },
    {
      "cell_type": "code",
      "source": [
        "import matplotlib.pyplot as plt\n",
        "\n",
        "df[cols_with_missing].hist(bins = 30, figsize=(12,8))\n",
        "plt.tight_layout()\n",
        "plt.show()"
      ],
      "metadata": {
        "colab": {
          "base_uri": "https://localhost:8080/",
          "height": 54
        },
        "id": "doGtmUULH2XX",
        "outputId": "7bc2313b-c43c-4be7-fb21-c2bbb80009fa"
      },
      "execution_count": 21,
      "outputs": [
        {
          "output_type": "display_data",
          "data": {
            "text/plain": [
              "<Figure size 1200x800 with 6 Axes>"
            ],
            "image/png": "[encoded data removed]"
          },
          "metadata": {}
        }
      ]
    },
    {
      "cell_type": "markdown",
      "source": [
        "![Screenshot 2025-09-24 at 5.54.48 PM.png](data:image/png;base64,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)"
      ],
      "metadata": {
        "id": "d8ts-UABKFBn"
      }
    },
    {
      "cell_type": "code",
      "source": [
        "df['Glucose'] = df['Glucose'].fillna(df['Glucose'].mean())\n",
        "df['BloodPressure'] = df['BloodPressure'].fillna(df['BloodPressure'].mean())\n",
        "df['SkinThickness'] = df['SkinThickness'].fillna(df['SkinThickness'].median())\n",
        "df['Insulin'] = df['Insulin'].fillna(df['Insulin'].median())\n",
        "df['BMI'] = df['BMI'].fillna(df['BMI'].median())"
      ],
      "metadata": {
        "id": "4NCnqG3YCIl2"
      },
      "execution_count": 22,
      "outputs": []
    },
    {
      "cell_type": "code",
      "source": [
        "df[cols_with_missing].hist(bins = 30, figsize=(12,8))\n",
        "plt.tight_layout()\n",
        "plt.show()"
      ],
      "metadata": {
        "colab": {
          "base_uri": "https://localhost:8080/",
          "height": 54
        },
        "id": "ytCTN_L9Li-I",
        "outputId": "705722cb-653f-416c-c696-cfb20139fb1e"
      },
      "execution_count": 23,
      "outputs": [
        {
          "output_type": "display_data",
          "data": {
            "text/plain": [
              "<Figure size 1200x800 with 6 Axes>"
            ],
            "image/png": "[encoded data removed]"
          },
          "metadata": {}
        }
      ]
    },
    {
      "cell_type": "markdown",
      "source": [
        "## **Train-Test Split (with stratification)**"
      ],
      "metadata": {
        "id": "5gtBWO5SNSQ_"
      }
    },
    {
      "cell_type": "code",
      "source": [
        "X = df.drop('Outcome', axis = 1)\n",
        "y = df['Outcome']"
      ],
      "metadata": {
        "id": "Gjm-o7TUNXGO"
      },
      "execution_count": 24,
      "outputs": []
    },
    {
      "cell_type": "markdown",
      "source": [
        "Stratified split preserves the class ratio (important for imbalanced data)"
      ],
      "metadata": {
        "id": "nrGg13JlNrzM"
      }
    },
    {
      "cell_type": "code",
      "source": [
        "X_train, X_test, y_train, y_test = train_test_split(\n",
        "    X, y, test_size = 0.20, random_state = 42, stratify = y\n",
        ")"
      ],
      "metadata": {
        "id": "5xquQu5FNkDp"
      },
      "execution_count": 25,
      "outputs": []
    },
    {
      "cell_type": "code",
      "source": [
        "print(\"Shapes: X_train:\", X_train.shape, \"| X_test:\", X_test.shape)\n",
        "print(\"\\nClass ratio: overall vs splits:\")\n",
        "\n",
        "print(f\"Overall: {y.mean()*100:.2f}%\")\n",
        "print(f\"Train  : {y_train.mean()*100:.2f}%\")\n",
        "print(f\"Test   : {y_test.mean()*100:.2f}%\")"
      ],
      "metadata": {
        "colab": {
          "base_uri": "https://localhost:8080/"
        },
        "id": "00j-9Np_ODVL",
        "outputId": "81eec033-a771-44e7-be6e-4dde9aff0508"
      },
      "execution_count": 26,
      "outputs": [
        {
          "output_type": "stream",
          "name": "stdout",
          "text": [
            "Shapes: X_train: (614, 8) | X_test: (154, 8)\n",
            "\n",
            "Class ratio: overall vs splits:\n",
            "Overall: 34.90%\n",
            "Train  : 34.85%\n",
            "Test   : 35.06%\n"
          ]
        }
      ]
    },
    {
      "cell_type": "markdown",
      "source": [
        "## **Feature Scaling**"
      ],
      "metadata": {
        "id": "SK0pwsU2RYZT"
      }
    },
    {
      "cell_type": "code",
      "source": [
        "scaler = StandardScaler()\n",
        "\n",
        "X_train_scaled = scaler.fit_transform(X_train)\n",
        "X_test_scaled = scaler.fit_transform(X_test)"
      ],
      "metadata": {
        "id": "ryKuQOfCRZ1L"
      },
      "execution_count": 27,
      "outputs": []
    },
    {
      "cell_type": "code",
      "source": [
        "X_train.head()"
      ],
      "metadata": {
        "colab": {
          "base_uri": "https://localhost:8080/",
          "height": 224
        },
        "id": "vAXECMoVRsWE",
        "outputId": "ade46022-79c9-41ca-c059-1a9705c46df9"
      },
      "execution_count": 28,
      "outputs": [
        {
          "output_type": "execute_result",
          "data": {
            "text/plain": [
              "     Pregnancies  Glucose  BloodPressure  SkinThickness  Insulin   BMI  \\\n",
              "353            1     90.0           62.0           12.0     43.0  27.2   \n",
              "711            5    126.0           78.0           27.0     22.0  29.6   \n",
              "373            2    105.0           58.0           40.0     94.0  34.9   \n",
              "46             1    146.0           56.0           29.0    125.0  29.7   \n",
              "682            0     95.0           64.0           39.0    105.0  44.6   \n",
              "\n",
              "     DiabetesPedigreeFunction  Age  \n",
              "353                     0.580   24  \n",
              "711                     0.439   40  \n",
              "373                     0.225   25  \n",
              "46                      0.564   29  \n",
              "682                     0.366   22  "
            ],
            "text/html": [
              "\n",
              "  <div id=\"df-45b8a4a1-bba2-44a0-95ec-0ad5804b1927\" class=\"colab-df-container\">\n",
              "    <div>\n",
              "<style scoped>\n",
              "    .dataframe tbody tr th:only-of-type {\n",
              "        vertical-align: middle;\n",
              "    }\n",
              "\n",
              "    .dataframe tbody tr th {\n",
              "        vertical-align: top;\n",
              "    }\n",
              "\n",
              "    .dataframe thead th {\n",
              "        text-align: right;\n",
              "    }\n",
              "</style>\n",
              "<table border=\"1\" class=\"dataframe\">\n",
              "  <thead>\n",
              "    <tr style=\"text-align: right;\">\n",
              "      <th></th>\n",
              "      <th>Pregnancies</th>\n",
              "      <th>Glucose</th>\n",
              "      <th>BloodPressure</th>\n",
              "      <th>SkinThickness</th>\n",
              "      <th>Insulin</th>\n",
              "      <th>BMI</th>\n",
              "      <th>DiabetesPedigreeFunction</th>\n",
              "      <th>Age</th>\n",
              "    </tr>\n",
              "  </thead>\n",
              "  <tbody>\n",
              "    <tr>\n",
              "      <th>353</th>\n",
              "      <td>1</td>\n",
              "      <td>90.0</td>\n",
              "      <td>62.0</td>\n",
              "      <td>12.0</td>\n",
              "      <td>43.0</td>\n",
              "      <td>27.2</td>\n",
              "      <td>0.580</td>\n",
              "      <td>24</td>\n",
              "    </tr>\n",
              "    <tr>\n",
              "      <th>711</th>\n",
              "      <td>5</td>\n",
              "      <td>126.0</td>\n",
              "      <td>78.0</td>\n",
              "      <td>27.0</td>\n",
              "      <td>22.0</td>\n",
              "      <td>29.6</td>\n",
              "      <td>0.439</td>\n",
              "      <td>40</td>\n",
              "    </tr>\n",
              "    <tr>\n",
              "      <th>373</th>\n",
              "      <td>2</td>\n",
              "      <td>105.0</td>\n",
              "      <td>58.0</td>\n",
              "      <td>40.0</td>\n",
              "      <td>94.0</td>\n",
              "      <td>34.9</td>\n",
              "      <td>0.225</td>\n",
              "      <td>25</td>\n",
              "    </tr>\n",
              "    <tr>\n",
              "      <th>46</th>\n",
              "      <td>1</td>\n",
              "      <td>146.0</td>\n",
              "      <td>56.0</td>\n",
              "      <td>29.0</td>\n",
              "      <td>125.0</td>\n",
              "      <td>29.7</td>\n",
              "      <td>0.564</td>\n",
              "      <td>29</td>\n",
              "    </tr>\n",
              "    <tr>\n",
              "      <th>682</th>\n",
              "      <td>0</td>\n",
              "      <td>95.0</td>\n",
              "      <td>64.0</td>\n",
              "      <td>39.0</td>\n",
              "      <td>105.0</td>\n",
              "      <td>44.6</td>\n",
              "      <td>0.366</td>\n",
              "      <td>22</td>\n",
              "    </tr>\n",
              "  </tbody>\n",
              "</table>\n",
              "</div>\n",
              "    <div class=\"colab-df-buttons\">\n",
              "\n",
              "  <div class=\"colab-df-container\">\n",
              "    <button class=\"colab-df-convert\" onclick=\"convertToInteractive('df-45b8a4a1-bba2-44a0-95ec-0ad5804b1927')\"\n",
              "            title=\"Convert this dataframe to an interactive table.\"\n",
              "            style=\"display:none;\">\n",
              "\n",
              "  <svg xmlns=\"http://www.w3.org/2000/svg\" height=\"24px\" viewBox=\"0 -960 960 960\">\n",
              "    <path d=\"M120-120v-720h720v720H120Zm60-500h600v-160H180v160Zm220 220h160v-160H400v160Zm0 220h160v-160H400v160ZM180-400h160v-160H180v160Zm440 0h160v-160H620v160ZM180-180h160v-160H180v160Zm440 0h160v-160H620v160Z\"/>\n",
              "  </svg>\n",
              "    </button>\n",
              "\n",
              "  <style>\n",
              "    .colab-df-container {\n",
              "      display:flex;\n",
              "      gap: 12px;\n",
              "    }\n",
              "\n",
              "    .colab-df-convert {\n",
              "      background-color: #E8F0FE;\n",
              "      border: none;\n",
              "      border-radius: 50%;\n",
              "      cursor: pointer;\n",
              "      display: none;\n",
              "      fill: #1967D2;\n",
              "      height: 32px;\n",
              "      padding: 0 0 0 0;\n",
              "      width: 32px;\n",
              "    }\n",
              "\n",
              "    .colab-df-convert:hover {\n",
              "      background-color: #E2EBFA;\n",
              "      box-shadow: 0px 1px 2px rgba(60, 64, 67, 0.3), 0px 1px 3px 1px rgba(60, 64, 67, 0.15);\n",
              "      fill: #174EA6;\n",
              "    }\n",
              "\n",
              "    .colab-df-buttons div {\n",
              "      margin-bottom: 4px;\n",
              "    }\n",
              "\n",
              "    [theme=dark] .colab-df-convert {\n",
              "      background-color: #3B4455;\n",
              "      fill: #D2E3FC;\n",
              "    }\n",
              "\n",
              "    [theme=dark] .colab-df-convert:hover {\n",
              "      background-color: #434B5C;\n",
              "      box-shadow: 0px 1px 3px 1px rgba(0, 0, 0, 0.15);\n",
              "      filter: drop-shadow(0px 1px 2px rgba(0, 0, 0, 0.3));\n",
              "      fill: #FFFFFF;\n",
              "    }\n",
              "  </style>\n",
              "\n",
              "    <script>\n",
              "      const buttonEl =\n",
              "        document.querySelector('#df-45b8a4a1-bba2-44a0-95ec-0ad5804b1927 button.colab-df-convert');\n",
              "      buttonEl.style.display =\n",
              "        google.colab.kernel.accessAllowed ? 'block' : 'none';\n",
              "\n",
              "      async function convertToInteractive(key) {\n",
              "        const element = document.querySelector('#df-45b8a4a1-bba2-44a0-95ec-0ad5804b1927');\n",
              "        const dataTable =\n",
              "          await google.colab.kernel.invokeFunction('convertToInteractive',\n",
              "                                                    [key], {});\n",
              "        if (!dataTable) return;\n",
              "\n",
              "        const docLinkHtml = 'Like what you see? Visit the ' +\n",
              "          '<a target=\"_blank\" href=https://colab.research.google.com/notebooks/data_table.ipynb>data table notebook</a>'\n",
              "          + ' to learn more about interactive tables.';\n",
              "        element.innerHTML = '';\n",
              "        dataTable['output_type'] = 'display_data';\n",
              "        await google.colab.output.renderOutput(dataTable, element);\n",
              "        const docLink = document.createElement('div');\n",
              "        docLink.innerHTML = docLinkHtml;\n",
              "        element.appendChild(docLink);\n",
              "      }\n",
              "    </script>\n",
              "  </div>\n",
              "\n",
              "\n",
              "    <div id=\"df-0fa8e660-ec1f-4df5-93d1-852d71773456\">\n",
              "      <button class=\"colab-df-quickchart\" onclick=\"quickchart('df-0fa8e660-ec1f-4df5-93d1-852d71773456')\"\n",
              "                title=\"Suggest charts\"\n",
              "                style=\"display:none;\">\n",
              "\n",
              "<svg xmlns=\"http://www.w3.org/2000/svg\" height=\"24px\"viewBox=\"0 0 24 24\"\n",
              "     width=\"24px\">\n",
              "    <g>\n",
              "        <path d=\"M19 3H5c-1.1 0-2 .9-2 2v14c0 1.1.9 2 2 2h14c1.1 0 2-.9 2-2V5c0-1.1-.9-2-2-2zM9 17H7v-7h2v7zm4 0h-2V7h2v10zm4 0h-2v-4h2v4z\"/>\n",
              "    </g>\n",
              "</svg>\n",
              "      </button>\n",
              "\n",
              "<style>\n",
              "  .colab-df-quickchart {\n",
              "      --bg-color: #E8F0FE;\n",
              "      --fill-color: #1967D2;\n",
              "      --hover-bg-color: #E2EBFA;\n",
              "      --hover-fill-color: #174EA6;\n",
              "      --disabled-fill-color: #AAA;\n",
              "      --disabled-bg-color: #DDD;\n",
              "  }\n",
              "\n",
              "  [theme=dark] .colab-df-quickchart {\n",
              "      --bg-color: #3B4455;\n",
              "      --fill-color: #D2E3FC;\n",
              "      --hover-bg-color: #434B5C;\n",
              "      --hover-fill-color: #FFFFFF;\n",
              "      --disabled-bg-color: #3B4455;\n",
              "      --disabled-fill-color: #666;\n",
              "  }\n",
              "\n",
              "  .colab-df-quickchart {\n",
              "    background-color: var(--bg-color);\n",
              "    border: none;\n",
              "    border-radius: 50%;\n",
              "    cursor: pointer;\n",
              "    display: none;\n",
              "    fill: var(--fill-color);\n",
              "    height: 32px;\n",
              "    padding: 0;\n",
              "    width: 32px;\n",
              "  }\n",
              "\n",
              "  .colab-df-quickchart:hover {\n",
              "    background-color: var(--hover-bg-color);\n",
              "    box-shadow: 0 1px 2px rgba(60, 64, 67, 0.3), 0 1px 3px 1px rgba(60, 64, 67, 0.15);\n",
              "    fill: var(--button-hover-fill-color);\n",
              "  }\n",
              "\n",
              "  .colab-df-quickchart-complete:disabled,\n",
              "  .colab-df-quickchart-complete:disabled:hover {\n",
              "    background-color: var(--disabled-bg-color);\n",
              "    fill: var(--disabled-fill-color);\n",
              "    box-shadow: none;\n",
              "  }\n",
              "\n",
              "  .colab-df-spinner {\n",
              "    border: 2px solid var(--fill-color);\n",
              "    border-color: transparent;\n",
              "    border-bottom-color: var(--fill-color);\n",
              "    animation:\n",
              "      spin 1s steps(1) infinite;\n",
              "  }\n",
              "\n",
              "  @keyframes spin {\n",
              "    0% {\n",
              "      border-color: transparent;\n",
              "      border-bottom-color: var(--fill-color);\n",
              "      border-left-color: var(--fill-color);\n",
              "    }\n",
              "    20% {\n",
              "      border-color: transparent;\n",
              "      border-left-color: var(--fill-color);\n",
              "      border-top-color: var(--fill-color);\n",
              "    }\n",
              "    30% {\n",
              "      border-color: transparent;\n",
              "      border-left-color: var(--fill-color);\n",
              "      border-top-color: var(--fill-color);\n",
              "      border-right-color: var(--fill-color);\n",
              "    }\n",
              "    40% {\n",
              "      border-color: transparent;\n",
              "      border-right-color: var(--fill-color);\n",
              "      border-top-color: var(--fill-color);\n",
              "    }\n",
              "    60% {\n",
              "      border-color: transparent;\n",
              "      border-right-color: var(--fill-color);\n",
              "    }\n",
              "    80% {\n",
              "      border-color: transparent;\n",
              "      border-right-color: var(--fill-color);\n",
              "      border-bottom-color: var(--fill-color);\n",
              "    }\n",
              "    90% {\n",
              "      border-color: transparent;\n",
              "      border-bottom-color: var(--fill-color);\n",
              "    }\n",
              "  }\n",
              "</style>\n",
              "\n",
              "      <script>\n",
              "        async function quickchart(key) {\n",
              "          const quickchartButtonEl =\n",
              "            document.querySelector('#' + key + ' button');\n",
              "          quickchartButtonEl.disabled = true;  // To prevent multiple clicks.\n",
              "          quickchartButtonEl.classList.add('colab-df-spinner');\n",
              "          try {\n",
              "            const charts = await google.colab.kernel.invokeFunction(\n",
              "                'suggestCharts', [key], {});\n",
              "          } catch (error) {\n",
              "            console.error('Error during call to suggestCharts:', error);\n",
              "          }\n",
              "          quickchartButtonEl.classList.remove('colab-df-spinner');\n",
              "          quickchartButtonEl.classList.add('colab-df-quickchart-complete');\n",
              "        }\n",
              "        (() => {\n",
              "          let quickchartButtonEl =\n",
              "            document.querySelector('#df-0fa8e660-ec1f-4df5-93d1-852d71773456 button');\n",
              "          quickchartButtonEl.style.display =\n",
              "            google.colab.kernel.accessAllowed ? 'block' : 'none';\n",
              "        })();\n",
              "      </script>\n",
              "    </div>\n",
              "\n",
              "    </div>\n",
              "  </div>\n"
            ],
            "application/vnd.google.colaboratory.intrinsic+json": {
              "type": "dataframe",
              "variable_name": "X_train",
              "summary": "{\n  \"name\": \"X_train\",\n  \"rows\": 614,\n  \"fields\": [\n    {\n      \"column\": \"Pregnancies\",\n      \"properties\": {\n        \"dtype\": \"number\",\n        \"std\": 3,\n        \"min\": 0,\n        \"max\": 17,\n        \"num_unique_values\": 16,\n        \"samples\": [\n          1,\n          5,\n          6\n        ],\n        \"semantic_type\": \"\",\n        \"description\": \"\"\n      }\n    },\n    {\n      \"column\": \"Glucose\",\n      \"properties\": {\n        \"dtype\": \"number\",\n        \"std\": 30.001405601659155,\n        \"min\": 56.0,\n        \"max\": 199.0,\n        \"num_unique_values\": 131,\n        \"samples\": [\n          170.0,\n          161.0,\n          108.0\n        ],\n        \"semantic_type\": \"\",\n        \"description\": \"\"\n      }\n    },\n    {\n      \"column\": \"BloodPressure\",\n      \"properties\": {\n        \"dtype\": \"number\",\n        \"std\": 12.275187400018465,\n        \"min\": 24.0,\n        \"max\": 122.0,\n        \"num_unique_values\": 46,\n        \"samples\": [\n          40.0,\n          86.0,\n          110.0\n        ],\n        \"semantic_type\": \"\",\n        \"description\": \"\"\n      }\n    },\n    {\n      \"column\": \"SkinThickness\",\n      \"properties\": {\n        \"dtype\": \"number\",\n        \"std\": 8.891855156745978,\n        \"min\": 7.0,\n        \"max\": 99.0,\n        \"num_unique_values\": 49,\n        \"samples\": [\n          32.0,\n          50.0,\n          99.0\n        ],\n        \"semantic_type\": \"\",\n        \"description\": \"\"\n      }\n    },\n    {\n      \"column\": \"Insulin\",\n      \"properties\": {\n        \"dtype\": \"number\",\n        \"std\": 78.76476679512976,\n        \"min\": 15.0,\n        \"max\": 744.0,\n        \"num_unique_values\": 162,\n        \"samples\": [\n          89.0,\n          46.0,\n          32.0\n        ],\n        \"semantic_type\": \"\",\n        \"description\": \"\"\n      }\n    },\n    {\n      \"column\": \"BMI\",\n      \"properties\": {\n        \"dtype\": \"number\",\n        \"std\": 6.8241424997578735,\n        \"min\": 18.2,\n        \"max\": 67.1,\n        \"num_unique_values\": 232,\n        \"samples\": [\n          34.8,\n          33.2,\n          19.9\n        ],\n        \"semantic_type\": \"\",\n        \"description\": \"\"\n      }\n    },\n    {\n      \"column\": \"DiabetesPedigreeFunction\",\n      \"properties\": {\n        \"dtype\": \"number\",\n        \"std\": 0.3303002745461497,\n        \"min\": 0.084,\n        \"max\": 2.329,\n        \"num_unique_values\": 442,\n        \"samples\": [\n          1.39,\n          0.144,\n          0.528\n        ],\n        \"semantic_type\": \"\",\n        \"description\": \"\"\n      }\n    },\n    {\n      \"column\": \"Age\",\n      \"properties\": {\n        \"dtype\": \"number\",\n        \"std\": 11,\n        \"min\": 21,\n        \"max\": 81,\n        \"num_unique_values\": 51,\n        \"samples\": [\n          69,\n          60,\n          56\n        ],\n        \"semantic_type\": \"\",\n        \"description\": \"\"\n      }\n    }\n  ]\n}"
            }
          },
          "metadata": {},
          "execution_count": 28
        }
      ]
    },
    {
      "cell_type": "code",
      "source": [
        "print(\"Before scaling (first 5 rows):\")\n",
        "print(X_train.head())\n",
        "\n",
        "print(\"\\nAfter scaling (first 5 rows):\")\n",
        "print(X_train_scaled[:5])"
      ],
      "metadata": {
        "colab": {
          "base_uri": "https://localhost:8080/"
        },
        "id": "aJbLT0lpSM7A",
        "outputId": "14f92e25-7ca6-4982-a8ea-3cee06a3f3fa"
      },
      "execution_count": 29,
      "outputs": [
        {
          "output_type": "stream",
          "name": "stdout",
          "text": [
            "Before scaling (first 5 rows):\n",
            "     Pregnancies  Glucose  BloodPressure  SkinThickness  Insulin   BMI  \\\n",
            "353            1     90.0           62.0           12.0     43.0  27.2   \n",
            "711            5    126.0           78.0           27.0     22.0  29.6   \n",
            "373            2    105.0           58.0           40.0     94.0  34.9   \n",
            "46             1    146.0           56.0           29.0    125.0  29.7   \n",
            "682            0     95.0           64.0           39.0    105.0  44.6   \n",
            "\n",
            "     DiabetesPedigreeFunction  Age  \n",
            "353                     0.580   24  \n",
            "711                     0.439   40  \n",
            "373                     0.225   25  \n",
            "46                      0.564   29  \n",
            "682                     0.366   22  \n",
            "\n",
            "After scaling (first 5 rows):\n",
            "[[-0.85135507 -1.0575301  -0.82797293 -1.91818693 -1.20336073 -0.76947697\n",
            "   0.31079384 -0.79216928]\n",
            " [ 0.35657564  0.14339202  0.47653222 -0.22987447 -1.47019479 -0.41749769\n",
            "  -0.11643851  0.56103382]\n",
            " [-0.5493724  -0.55714588 -1.15409922  1.23332967 -0.55533518  0.3597899\n",
            "  -0.76486207 -0.70759409]\n",
            " [-0.85135507  0.81057098 -1.31716237 -0.00476614 -0.16143729 -0.40283188\n",
            "   0.26231357 -0.36929331]\n",
            " [-1.15333775 -0.89073536 -0.66490979  1.12077551 -0.41556496  1.78237284\n",
            "  -0.33762972 -0.96131967]]\n"
          ]
        }
      ]
    },
    {
      "cell_type": "markdown",
      "source": [
        "## **Model Training**"
      ],
      "metadata": {
        "id": "R-zJ6JhAUdU6"
      }
    },
    {
      "cell_type": "markdown",
      "source": [
        "**Logistic Regression (Baseline)**"
      ],
      "metadata": {
        "id": "fV2DYU_cUkyQ"
      }
    },
    {
      "cell_type": "code",
      "source": [
        "from sklearn.linear_model import LogisticRegression\n",
        "\n",
        "log_reg = LogisticRegression(max_iter = 1000, random_state= 42)\n",
        "log_reg.fit(X_train_scaled, y_train)\n",
        "y_pred_log = log_reg.predict(X_test_scaled)\n",
        "\n",
        "print(f\"\\nAccuracy:\\n\", accuracy_score(y_test, y_pred_log))\n",
        "print(f\"\\nClassification Report:\\n\", classification_report(y_test, y_pred_log))\n",
        "print(f\"\\nConfusion Matrix:\\n\",confusion_matrix(y_test, y_pred_log))"
      ],
      "metadata": {
        "colab": {
          "base_uri": "https://localhost:8080/"
        },
        "id": "Xdw4KNkqUc07",
        "outputId": "8579642a-991f-4772-fd4e-5fd0a797ed68"
      },
      "execution_count": 30,
      "outputs": [
        {
          "output_type": "stream",
          "name": "stdout",
          "text": [
            "\n",
            "Accuracy:\n",
            " 0.6948051948051948\n",
            "\n",
            "Classification Report:\n",
            "               precision    recall  f1-score   support\n",
            "\n",
            "           0       0.74      0.81      0.78       100\n",
            "           1       0.58      0.48      0.53        54\n",
            "\n",
            "    accuracy                           0.69       154\n",
            "   macro avg       0.66      0.65      0.65       154\n",
            "weighted avg       0.69      0.69      0.69       154\n",
            "\n",
            "\n",
            "Confusion Matrix:\n",
            " [[81 19]\n",
            " [28 26]]\n"
          ]
        }
      ]
    },
    {
      "cell_type": "markdown",
      "source": [
        "**Random Forest Classifier**"
      ],
      "metadata": {
        "id": "iMV9bSZtWgga"
      }
    },
    {
      "cell_type": "code",
      "source": [
        "from sklearn.ensemble import RandomForestClassifier\n",
        "\n",
        "rf = RandomForestClassifier(n_estimators=100, random_state=42, class_weight='balanced')\n",
        "\n",
        "rf.fit(X_train_scaled, y_train)\n",
        "y_pred_rf = rf.predict(X_test_scaled)\n",
        "\n",
        "print(f\"\\nAccuracy:\\n\", accuracy_score(y_test, y_pred_rf))\n",
        "print(f\"\\nClassification Report:\\n\",classification_report(y_test, y_pred_rf))\n",
        "print(f\"\\nConfusion Matrix:\\n\", confusion_matrix(y_test, y_pred_rf))"
      ],
      "metadata": {
        "colab": {
          "base_uri": "https://localhost:8080/"
        },
        "id": "lod9k7W4Wg7t",
        "outputId": "26df625a-bf7c-40f4-e61e-f0bcd7a775f6"
      },
      "execution_count": 31,
      "outputs": [
        {
          "output_type": "stream",
          "name": "stdout",
          "text": [
            "\n",
            "Accuracy:\n",
            " 0.7402597402597403\n",
            "\n",
            "Classification Report:\n",
            "               precision    recall  f1-score   support\n",
            "\n",
            "           0       0.78      0.84      0.81       100\n",
            "           1       0.65      0.56      0.60        54\n",
            "\n",
            "    accuracy                           0.74       154\n",
            "   macro avg       0.71      0.70      0.70       154\n",
            "weighted avg       0.73      0.74      0.73       154\n",
            "\n",
            "\n",
            "Confusion Matrix:\n",
            " [[84 16]\n",
            " [24 30]]\n"
          ]
        }
      ]
    },
    {
      "cell_type": "code",
      "source": [
        "from sklearn.metrics import roc_auc_score\n",
        "print(\"ROC-AUC:\", roc_auc_score(y_test, rf.predict_proba(X_test)[:,1]))\n"
      ],
      "metadata": {
        "colab": {
          "base_uri": "https://localhost:8080/"
        },
        "id": "mMYt-qHOaIDE",
        "outputId": "0cad877d-fca3-444b-d731-976aa600dd81"
      },
      "execution_count": 32,
      "outputs": [
        {
          "output_type": "stream",
          "name": "stdout",
          "text": [
            "ROC-AUC: 0.4435185185185185\n"
          ]
        },
        {
          "output_type": "stream",
          "name": "stderr",
          "text": [
            "/usr/local/lib/python3.12/dist-packages/sklearn/utils/validation.py:2732: UserWarning: X has feature names, but RandomForestClassifier was fitted without feature names\n",
            "  warnings.warn(\n"
          ]
        }
      ]
    },
    {
      "cell_type": "code",
      "source": [
        "from sklearn.model_selection import GridSearchCV\n",
        "\n",
        "param_grid = {\n",
        "    'n_estimators': [100, 300, 500],\n",
        "    'max_depth': [5, 10, None],\n",
        "    'min_samples_split': [2, 5, 10],\n",
        "    'min_samples_leaf': [1, 4, 10],\n",
        "    'max_features': ['sqrt', 'log2'],\n",
        "    'class_weight': [None, 'balanced']\n",
        "}\n",
        "\n",
        "rf = RandomForestClassifier(random_state=42)\n",
        "\n",
        "grid_search = GridSearchCV(\n",
        "    estimator=rf,\n",
        "    param_grid=param_grid,\n",
        "    cv=5,              # 5-fold cross-validation\n",
        "    scoring='f1',      # optimize for F1 (good for imbalance)\n",
        "    n_jobs=-1,         # use all CPU cores\n",
        "    verbose=2\n",
        ")\n",
        "\n",
        "grid_search.fit(X_train, y_train)\n",
        "\n",
        "print(\"Best Parameters:\", grid_search.best_params_)\n",
        "print(\"Best Score:\", grid_search.best_score_)\n"
      ],
      "metadata": {
        "colab": {
          "base_uri": "https://localhost:8080/",
          "height": 367
        },
        "id": "lhJ3a4sqYf4B",
        "outputId": "dd21689a-f329-42c3-c911-1188b921392a"
      },
      "execution_count": 85,
      "outputs": [
        {
          "output_type": "stream",
          "name": "stdout",
          "text": [
            "Fitting 5 folds for each of 324 candidates, totalling 1620 fits\n"
          ]
        },
        {
          "output_type": "error",
          "ename": "KeyboardInterrupt",
          "evalue": "",
          "traceback": [
            "\u001b[0;31m---------------------------------------------------------------------------\u001b[0m",
            "\u001b[0;31mKeyboardInterrupt\u001b[0m                         Traceback (most recent call last)",
            "\u001b[0;32m/tmp/ipython-input-3114632648.py\u001b[0m in \u001b[0;36m<cell line: 0>\u001b[0;34m()\u001b[0m\n\u001b[1;32m     21\u001b[0m )\n\u001b[1;32m     22\u001b[0m \u001b[0;34m\u001b[0m\u001b[0m\n\u001b[0;32m---> 23\u001b[0;31m \u001b[0mgrid_search\u001b[0m\u001b[0;34m.\u001b[0m\u001b[0mfit\u001b[0m\u001b[0;34m(\u001b[0m\u001b[0mX_train\u001b[0m\u001b[0;34m,\u001b[0m \u001b[0my_train\u001b[0m\u001b[0;34m)\u001b[0m\u001b[0;34m\u001b[0m\u001b[0;34m\u001b[0m\u001b[0m\n\u001b[0m\u001b[1;32m     24\u001b[0m \u001b[0;34m\u001b[0m\u001b[0m\n\u001b[1;32m     25\u001b[0m \u001b[0mprint\u001b[0m\u001b[0;34m(\u001b[0m\u001b[0;34m\"Best Parameters:\"\u001b[0m\u001b[0;34m,\u001b[0m \u001b[0mgrid_search\u001b[0m\u001b[0;34m.\u001b[0m\u001b[0mbest_params_\u001b[0m\u001b[0;34m)\u001b[0m\u001b[0;34m\u001b[0m\u001b[0;34m\u001b[0m\u001b[0m\n",
            "\u001b[0;32m/usr/local/lib/python3.12/dist-packages/sklearn/base.py\u001b[0m in \u001b[0;36mwrapper\u001b[0;34m(estimator, *args, **kwargs)\u001b[0m\n\u001b[1;32m   1387\u001b[0m                 )\n\u001b[1;32m   1388\u001b[0m             ):\n\u001b[0;32m-> 1389\u001b[0;31m                 \u001b[0;32mreturn\u001b[0m \u001b[0mfit_method\u001b[0m\u001b[0;34m(\u001b[0m\u001b[0mestimator\u001b[0m\u001b[0;34m,\u001b[0m \u001b[0;34m*\u001b[0m\u001b[0margs\u001b[0m\u001b[0;34m,\u001b[0m \u001b[0;34m**\u001b[0m\u001b[0mkwargs\u001b[0m\u001b[0;34m)\u001b[0m\u001b[0;34m\u001b[0m\u001b[0;34m\u001b[0m\u001b[0m\n\u001b[0m\u001b[1;32m   1390\u001b[0m \u001b[0;34m\u001b[0m\u001b[0m\n\u001b[1;32m   1391\u001b[0m         \u001b[0;32mreturn\u001b[0m \u001b[0mwrapper\u001b[0m\u001b[0;34m\u001b[0m\u001b[0;34m\u001b[0m\u001b[0m\n",
            "\u001b[0;32m/usr/local/lib/python3.12/dist-packages/sklearn/model_selection/_search.py\u001b[0m in \u001b[0;36mfit\u001b[0;34m(self, X, y, **params)\u001b[0m\n\u001b[1;32m   1022\u001b[0m                 \u001b[0;32mreturn\u001b[0m \u001b[0mresults\u001b[0m\u001b[0;34m\u001b[0m\u001b[0;34m\u001b[0m\u001b[0m\n\u001b[1;32m   1023\u001b[0m \u001b[0;34m\u001b[0m\u001b[0m\n\u001b[0;32m-> 1024\u001b[0;31m             \u001b[0mself\u001b[0m\u001b[0;34m.\u001b[0m\u001b[0m_run_search\u001b[0m\u001b[0;34m(\u001b[0m\u001b[0mevaluate_candidates\u001b[0m\u001b[0;34m)\u001b[0m\u001b[0;34m\u001b[0m\u001b[0;34m\u001b[0m\u001b[0m\n\u001b[0m\u001b[1;32m   1025\u001b[0m \u001b[0;34m\u001b[0m\u001b[0m\n\u001b[1;32m   1026\u001b[0m             \u001b[0;31m# multimetric is determined here because in the case of a callable\u001b[0m\u001b[0;34m\u001b[0m\u001b[0;34m\u001b[0m\u001b[0m\n",
            "\u001b[0;32m/usr/local/lib/python3.12/dist-packages/sklearn/model_selection/_search.py\u001b[0m in \u001b[0;36m_run_search\u001b[0;34m(self, evaluate_candidates)\u001b[0m\n\u001b[1;32m   1569\u001b[0m     \u001b[0;32mdef\u001b[0m \u001b[0m_run_search\u001b[0m\u001b[0;34m(\u001b[0m\u001b[0mself\u001b[0m\u001b[0;34m,\u001b[0m \u001b[0mevaluate_candidates\u001b[0m\u001b[0;34m)\u001b[0m\u001b[0;34m:\u001b[0m\u001b[0;34m\u001b[0m\u001b[0;34m\u001b[0m\u001b[0m\n\u001b[1;32m   1570\u001b[0m         \u001b[0;34m\"\"\"Search all candidates in param_grid\"\"\"\u001b[0m\u001b[0;34m\u001b[0m\u001b[0;34m\u001b[0m\u001b[0m\n\u001b[0;32m-> 1571\u001b[0;31m         \u001b[0mevaluate_candidates\u001b[0m\u001b[0;34m(\u001b[0m\u001b[0mParameterGrid\u001b[0m\u001b[0;34m(\u001b[0m\u001b[0mself\u001b[0m\u001b[0;34m.\u001b[0m\u001b[0mparam_grid\u001b[0m\u001b[0;34m)\u001b[0m\u001b[0;34m)\u001b[0m\u001b[0;34m\u001b[0m\u001b[0;34m\u001b[0m\u001b[0m\n\u001b[0m\u001b[1;32m   1572\u001b[0m \u001b[0;34m\u001b[0m\u001b[0m\n\u001b[1;32m   1573\u001b[0m \u001b[0;34m\u001b[0m\u001b[0m\n",
            "\u001b[0;32m/usr/local/lib/python3.12/dist-packages/sklearn/model_selection/_search.py\u001b[0m in \u001b[0;36mevaluate_candidates\u001b[0;34m(candidate_params, cv, more_results)\u001b[0m\n\u001b[1;32m    968\u001b[0m                     )\n\u001b[1;32m    969\u001b[0m \u001b[0;34m\u001b[0m\u001b[0m\n\u001b[0;32m--> 970\u001b[0;31m                 out = parallel(\n\u001b[0m\u001b[1;32m    971\u001b[0m                     delayed(_fit_and_score)(\n\u001b[1;32m    972\u001b[0m                         \u001b[0mclone\u001b[0m\u001b[0;34m(\u001b[0m\u001b[0mbase_estimator\u001b[0m\u001b[0;34m)\u001b[0m\u001b[0;34m,\u001b[0m\u001b[0;34m\u001b[0m\u001b[0;34m\u001b[0m\u001b[0m\n",
            "\u001b[0;32m/usr/local/lib/python3.12/dist-packages/sklearn/utils/parallel.py\u001b[0m in \u001b[0;36m__call__\u001b[0;34m(self, iterable)\u001b[0m\n\u001b[1;32m     75\u001b[0m             \u001b[0;32mfor\u001b[0m \u001b[0mdelayed_func\u001b[0m\u001b[0;34m,\u001b[0m \u001b[0margs\u001b[0m\u001b[0;34m,\u001b[0m \u001b[0mkwargs\u001b[0m \u001b[0;32min\u001b[0m \u001b[0miterable\u001b[0m\u001b[0;34m\u001b[0m\u001b[0;34m\u001b[0m\u001b[0m\n\u001b[1;32m     76\u001b[0m         )\n\u001b[0;32m---> 77\u001b[0;31m         \u001b[0;32mreturn\u001b[0m \u001b[0msuper\u001b[0m\u001b[0;34m(\u001b[0m\u001b[0;34m)\u001b[0m\u001b[0;34m.\u001b[0m\u001b[0m__call__\u001b[0m\u001b[0;34m(\u001b[0m\u001b[0miterable_with_config\u001b[0m\u001b[0;34m)\u001b[0m\u001b[0;34m\u001b[0m\u001b[0;34m\u001b[0m\u001b[0m\n\u001b[0m\u001b[1;32m     78\u001b[0m \u001b[0;34m\u001b[0m\u001b[0m\n\u001b[1;32m     79\u001b[0m \u001b[0;34m\u001b[0m\u001b[0m\n",
            "\u001b[0;32m/usr/local/lib/python3.12/dist-packages/joblib/parallel.py\u001b[0m in \u001b[0;36m__call__\u001b[0;34m(self, iterable)\u001b[0m\n\u001b[1;32m   2070\u001b[0m         \u001b[0mnext\u001b[0m\u001b[0;34m(\u001b[0m\u001b[0moutput\u001b[0m\u001b[0;34m)\u001b[0m\u001b[0;34m\u001b[0m\u001b[0;34m\u001b[0m\u001b[0m\n\u001b[1;32m   2071\u001b[0m \u001b[0;34m\u001b[0m\u001b[0m\n\u001b[0;32m-> 2072\u001b[0;31m         \u001b[0;32mreturn\u001b[0m \u001b[0moutput\u001b[0m \u001b[0;32mif\u001b[0m \u001b[0mself\u001b[0m\u001b[0;34m.\u001b[0m\u001b[0mreturn_generator\u001b[0m \u001b[0;32melse\u001b[0m \u001b[0mlist\u001b[0m\u001b[0;34m(\u001b[0m\u001b[0moutput\u001b[0m\u001b[0;34m)\u001b[0m\u001b[0;34m\u001b[0m\u001b[0;34m\u001b[0m\u001b[0m\n\u001b[0m\u001b[1;32m   2073\u001b[0m \u001b[0;34m\u001b[0m\u001b[0m\n\u001b[1;32m   2074\u001b[0m     \u001b[0;32mdef\u001b[0m \u001b[0m__repr__\u001b[0m\u001b[0;34m(\u001b[0m\u001b[0mself\u001b[0m\u001b[0;34m)\u001b[0m\u001b[0;34m:\u001b[0m\u001b[0;34m\u001b[0m\u001b[0;34m\u001b[0m\u001b[0m\n",
            "\u001b[0;32m/usr/local/lib/python3.12/dist-packages/joblib/parallel.py\u001b[0m in \u001b[0;36m_get_outputs\u001b[0;34m(self, iterator, pre_dispatch)\u001b[0m\n\u001b[1;32m   1680\u001b[0m \u001b[0;34m\u001b[0m\u001b[0m\n\u001b[1;32m   1681\u001b[0m             \u001b[0;32mwith\u001b[0m \u001b[0mself\u001b[0m\u001b[0;34m.\u001b[0m\u001b[0m_backend\u001b[0m\u001b[0;34m.\u001b[0m\u001b[0mretrieval_context\u001b[0m\u001b[0;34m(\u001b[0m\u001b[0;34m)\u001b[0m\u001b[0;34m:\u001b[0m\u001b[0;34m\u001b[0m\u001b[0;34m\u001b[0m\u001b[0m\n\u001b[0;32m-> 1682\u001b[0;31m                 \u001b[0;32myield\u001b[0m \u001b[0;32mfrom\u001b[0m \u001b[0mself\u001b[0m\u001b[0;34m.\u001b[0m\u001b[0m_retrieve\u001b[0m\u001b[0;34m(\u001b[0m\u001b[0;34m)\u001b[0m\u001b[0;34m\u001b[0m\u001b[0;34m\u001b[0m\u001b[0m\n\u001b[0m\u001b[1;32m   1683\u001b[0m \u001b[0;34m\u001b[0m\u001b[0m\n\u001b[1;32m   1684\u001b[0m         \u001b[0;32mexcept\u001b[0m \u001b[0mGeneratorExit\u001b[0m\u001b[0;34m:\u001b[0m\u001b[0;34m\u001b[0m\u001b[0;34m\u001b[0m\u001b[0m\n",
            "\u001b[0;32m/usr/local/lib/python3.12/dist-packages/joblib/parallel.py\u001b[0m in \u001b[0;36m_retrieve\u001b[0;34m(self)\u001b[0m\n\u001b[1;32m   1798\u001b[0m                     \u001b[0mself\u001b[0m\u001b[0;34m.\u001b[0m\u001b[0m_jobs\u001b[0m\u001b[0;34m[\u001b[0m\u001b[0;36m0\u001b[0m\u001b[0;34m]\u001b[0m\u001b[0;34m.\u001b[0m\u001b[0mget_status\u001b[0m\u001b[0;34m(\u001b[0m\u001b[0mtimeout\u001b[0m\u001b[0;34m=\u001b[0m\u001b[0mself\u001b[0m\u001b[0;34m.\u001b[0m\u001b[0mtimeout\u001b[0m\u001b[0;34m)\u001b[0m \u001b[0;34m==\u001b[0m \u001b[0mTASK_PENDING\u001b[0m\u001b[0;34m\u001b[0m\u001b[0;34m\u001b[0m\u001b[0m\n\u001b[1;32m   1799\u001b[0m                 ):\n\u001b[0;32m-> 1800\u001b[0;31m                     \u001b[0mtime\u001b[0m\u001b[0;34m.\u001b[0m\u001b[0msleep\u001b[0m\u001b[0;34m(\u001b[0m\u001b[0;36m0.01\u001b[0m\u001b[0;34m)\u001b[0m\u001b[0;34m\u001b[0m\u001b[0;34m\u001b[0m\u001b[0m\n\u001b[0m\u001b[1;32m   1801\u001b[0m                     \u001b[0;32mcontinue\u001b[0m\u001b[0;34m\u001b[0m\u001b[0;34m\u001b[0m\u001b[0m\n\u001b[1;32m   1802\u001b[0m \u001b[0;34m\u001b[0m\u001b[0m\n",
            "\u001b[0;31mKeyboardInterrupt\u001b[0m: "
          ]
        }
      ]
    },
    {
      "cell_type": "markdown",
      "source": [
        "**XGBoost Classifier**"
      ],
      "metadata": {
        "id": "SpGkOYZSaWEI"
      }
    },
    {
      "cell_type": "code",
      "source": [
        "from xgboost import XGBClassifier\n",
        "\n",
        "xgb = XGBClassifier()\n",
        "xgb.fit(X_train_scaled, y_train)\n",
        "y_pred_xgb = xgb.predict(X_test_scaled)\n",
        "\n",
        "print(f\"\\nAccuracy:\\n\", accuracy_score(y_test, y_pred_xgb))\n",
        "print(f\"\\nClassification Report:\\n\",classification_report(y_test, y_pred_xgb))\n",
        "print(f\"\\nConfusion Matrix:\\n\", confusion_matrix(y_test, y_pred_xgb))"
      ],
      "metadata": {
        "colab": {
          "base_uri": "https://localhost:8080/"
        },
        "id": "mycIps2QaX9v",
        "outputId": "b1a751e1-b3a2-408f-93fd-923dd280ab57"
      },
      "execution_count": 33,
      "outputs": [
        {
          "output_type": "stream",
          "name": "stdout",
          "text": [
            "\n",
            "Accuracy:\n",
            " 0.7402597402597403\n",
            "\n",
            "Classification Report:\n",
            "               precision    recall  f1-score   support\n",
            "\n",
            "           0       0.77      0.86      0.81       100\n",
            "           1       0.67      0.52      0.58        54\n",
            "\n",
            "    accuracy                           0.74       154\n",
            "   macro avg       0.72      0.69      0.70       154\n",
            "weighted avg       0.73      0.74      0.73       154\n",
            "\n",
            "\n",
            "Confusion Matrix:\n",
            " [[86 14]\n",
            " [26 28]]\n"
          ]
        }
      ]
    },
    {
      "cell_type": "markdown",
      "source": [
        "## **Model Comparision:**"
      ],
      "metadata": {
        "id": "fmafu2SYbBm4"
      }
    },
    {
      "cell_type": "code",
      "source": [
        "from sklearn.metrics import accuracy_score, recall_score, f1_score\n",
        "\n",
        "results = pd.DataFrame({\n",
        "    \"Model\": [\"Logistic Regression\", \"Random Forest\", \"XGBoost\"],\n",
        "    \"Accuracy\": [\n",
        "        accuracy_score(y_test, y_pred_log),\n",
        "        accuracy_score(y_test, y_pred_rf),\n",
        "        accuracy_score(y_test, y_pred_xgb)\n",
        "    ],\n",
        "    \"Recall (Class 1)\": [\n",
        "        recall_score(y_test, y_pred_log),\n",
        "        recall_score(y_test, y_pred_rf),\n",
        "        recall_score(y_test, y_pred_xgb)\n",
        "    ],\n",
        "    \"F1 (Class 1)\": [\n",
        "        f1_score(y_test, y_pred_log),\n",
        "        f1_score(y_test, y_pred_rf),\n",
        "        f1_score(y_test, y_pred_xgb)\n",
        "    ]\n",
        "})\n",
        "\n",
        "print(results)"
      ],
      "metadata": {
        "colab": {
          "base_uri": "https://localhost:8080/"
        },
        "id": "xcRQf9YZbE_N",
        "outputId": "4d81d920-2cd4-4786-a8be-256a886b58b1"
      },
      "execution_count": 34,
      "outputs": [
        {
          "output_type": "stream",
          "name": "stdout",
          "text": [
            "                 Model  Accuracy  Recall (Class 1)  F1 (Class 1)\n",
            "0  Logistic Regression  0.694805          0.481481      0.525253\n",
            "1        Random Forest  0.740260          0.555556      0.600000\n",
            "2              XGBoost  0.740260          0.518519      0.583333\n"
          ]
        }
      ]
    },
    {
      "cell_type": "markdown",
      "source": [
        "## **Model Evaluation & Visualization**"
      ],
      "metadata": {
        "id": "R2pcapPQbcQA"
      }
    },
    {
      "cell_type": "markdown",
      "source": [
        "**Confusion Matrix Heatmaps**"
      ],
      "metadata": {
        "id": "PzjsHiuXbqLH"
      }
    },
    {
      "cell_type": "code",
      "source": [
        "import matplotlib.pyplot as plt\n",
        "import seaborn as sns\n",
        "from sklearn.metrics import confusion_matrix\n",
        "\n",
        "# Get confusion matrices\n",
        "cm_log = confusion_matrix(y_test, y_pred_log)\n",
        "cm_rf = confusion_matrix(y_test, y_pred_rf)\n",
        "cm_xgb = confusion_matrix(y_test, y_pred_xgb)\n",
        "\n",
        "# Plot\n",
        "fig, axes = plt.subplots(1, 3, figsize=(18, 5))\n",
        "\n",
        "for ax, cm, title in zip(\n",
        "    axes,\n",
        "    [cm_log, cm_rf, cm_xgb],\n",
        "    [\"Logistic Regression\", \"Random Forest\", \"XGBoost\"]\n",
        "):\n",
        "    sns.heatmap(cm, annot=True, fmt=\"d\", cmap=\"Blues\", cbar=False, ax=ax)\n",
        "    ax.set_title(title)\n",
        "    ax.set_xlabel(\"Predicted\")\n",
        "    ax.set_ylabel(\"Actual\")\n",
        "\n",
        "plt.tight_layout()\n",
        "plt.show()\n"
      ],
      "metadata": {
        "colab": {
          "base_uri": "https://localhost:8080/",
          "height": 54
        },
        "id": "7JH2xwB3bdrZ",
        "outputId": "0fb2e597-0129-40cf-b515-533bf353e6e6"
      },
      "execution_count": 35,
      "outputs": [
        {
          "output_type": "display_data",
          "data": {
            "text/plain": [
              "<Figure size 1800x500 with 3 Axes>"
            ],
            "image/png": "[encoded data removed]"
          },
          "metadata": {}
        }
      ]
    },
    {
      "cell_type": "markdown",
      "source": [
        "**ROC Curves & AUC**"
      ],
      "metadata": {
        "id": "vk3j7abObrS-"
      }
    },
    {
      "cell_type": "code",
      "source": [
        "from sklearn.metrics import roc_curve, roc_auc_score\n",
        "\n",
        "# Probabilities (needed for ROC curve)\n",
        "y_prob_log = log_reg.predict_proba(X_test_scaled)[:, 1]\n",
        "y_prob_rf = rf.predict_proba(X_test)[:, 1]\n",
        "y_prob_xgb = xgb.predict_proba(X_test)[:, 1]\n",
        "\n",
        "# ROC values\n",
        "fpr_log, tpr_log, _ = roc_curve(y_test, y_prob_log)\n",
        "fpr_rf, tpr_rf, _ = roc_curve(y_test, y_prob_rf)\n",
        "fpr_xgb, tpr_xgb, _ = roc_curve(y_test, y_prob_xgb)\n",
        "\n",
        "# AUC scores\n",
        "auc_log = roc_auc_score(y_test, y_prob_log)\n",
        "auc_rf = roc_auc_score(y_test, y_prob_rf)\n",
        "auc_xgb = roc_auc_score(y_test, y_prob_xgb)\n",
        "\n",
        "# Plot\n",
        "plt.figure(figsize=(8,6))\n",
        "plt.plot(fpr_log, tpr_log, label=f\"Logistic Regression (AUC={auc_log:.2f})\")\n",
        "plt.plot(fpr_rf, tpr_rf, label=f\"Random Forest (AUC={auc_rf:.2f})\")\n",
        "plt.plot(fpr_xgb, tpr_xgb, label=f\"XGBoost (AUC={auc_xgb:.2f})\")\n",
        "\n",
        "# Reference line (random guessing)\n",
        "plt.plot([0,1], [0,1], 'k--')\n",
        "\n",
        "plt.xlabel(\"False Positive Rate\")\n",
        "plt.ylabel(\"True Positive Rate\")\n",
        "plt.title(\"ROC Curve Comparison\")\n",
        "plt.legend()\n",
        "plt.show()"
      ],
      "metadata": {
        "colab": {
          "base_uri": "https://localhost:8080/",
          "height": 88
        },
        "id": "SKXI2OoobtRC",
        "outputId": "92a05ad4-a0d5-497b-97a3-fb59a801ea63"
      },
      "execution_count": 36,
      "outputs": [
        {
          "output_type": "stream",
          "name": "stderr",
          "text": [
            "/usr/local/lib/python3.12/dist-packages/sklearn/utils/validation.py:2732: UserWarning: X has feature names, but RandomForestClassifier was fitted without feature names\n",
            "  warnings.warn(\n"
          ]
        },
        {
          "output_type": "display_data",
          "data": {
            "text/plain": [
              "<Figure size 800x600 with 1 Axes>"
            ],
            "image/png": "[encoded data removed]"
          },
          "metadata": {}
        }
      ]
    },
    {
      "cell_type": "markdown",
      "source": [
        "**Feature Importance**"
      ],
      "metadata": {
        "id": "iOUvtTa9b1vi"
      }
    },
    {
      "cell_type": "code",
      "source": [
        "importances_rf = pd.Series(rf.feature_importances_, index=X.columns)\n",
        "\n",
        "plt.figure(figsize=(8,6))\n",
        "sns.barplot(x=importances_rf.sort_values(ascending=False),\n",
        "            y=importances_rf.sort_values(ascending=False).index,\n",
        "            palette=\"Blues_r\")\n",
        "plt.title(\"Random Forest Feature Importance\")\n",
        "plt.xlabel(\"Importance Score\")\n",
        "plt.ylabel(\"Features\")\n",
        "plt.show()\n"
      ],
      "metadata": {
        "colab": {
          "base_uri": "https://localhost:8080/",
          "height": 139
        },
        "id": "-xAE_TF8b2fq",
        "outputId": "f3a4149d-b8e0-43a1-e4f1-e9b4eb8b7656"
      },
      "execution_count": 37,
      "outputs": [
        {
          "output_type": "stream",
          "name": "stderr",
          "text": [
            "/tmp/ipython-input-2040020823.py:4: FutureWarning: \n",
            "\n",
            "Passing `palette` without assigning `hue` is deprecated and will be removed in v0.14.0. Assign the `y` variable to `hue` and set `legend=False` for the same effect.\n",
            "\n",
            "  sns.barplot(x=importances_rf.sort_values(ascending=False),\n"
          ]
        },
        {
          "output_type": "display_data",
          "data": {
            "text/plain": [
              "<Figure size 800x600 with 1 Axes>"
            ],
            "image/png": "[encoded data removed]"
          },
          "metadata": {}
        }
      ]
    },
    {
      "cell_type": "code",
      "source": [
        "importances_xgb = pd.Series(xgb.feature_importances_, index=X.columns)\n",
        "\n",
        "plt.figure(figsize=(8,6))\n",
        "sns.barplot(x=importances_xgb.sort_values(ascending=False),\n",
        "            y=importances_xgb.sort_values(ascending=False).index,\n",
        "            palette=\"Greens_r\")\n",
        "plt.title(\"XGBoost Feature Importance\")\n",
        "plt.xlabel(\"Importance Score\")\n",
        "plt.ylabel(\"Features\")\n",
        "plt.show()\n"
      ],
      "metadata": {
        "colab": {
          "base_uri": "https://localhost:8080/",
          "height": 139
        },
        "id": "m_5fJriPcFzl",
        "outputId": "7c79512d-afd7-482b-a7a2-cf90f6cfe4b6"
      },
      "execution_count": 38,
      "outputs": [
        {
          "output_type": "stream",
          "name": "stderr",
          "text": [
            "/tmp/ipython-input-1095849870.py:4: FutureWarning: \n",
            "\n",
            "Passing `palette` without assigning `hue` is deprecated and will be removed in v0.14.0. Assign the `y` variable to `hue` and set `legend=False` for the same effect.\n",
            "\n",
            "  sns.barplot(x=importances_xgb.sort_values(ascending=False),\n"
          ]
        },
        {
          "output_type": "display_data",
          "data": {
            "text/plain": [
              "<Figure size 800x600 with 1 Axes>"
            ],
            "image/png": "[encoded data removed]"
          },
          "metadata": {}
        }
      ]
    },
    {
      "cell_type": "markdown",
      "source": [
        "## **Saving and Loading the Model**"
      ],
      "metadata": {
        "id": "fcP2MZk7zVO0"
      }
    },
    {
      "cell_type": "code",
      "source": [
        "import joblib\n",
        "\n",
        "joblib.dump(xgb, \"diabetes_xgb_model.pkl\")"
      ],
      "metadata": {
        "colab": {
          "base_uri": "https://localhost:8080/"
        },
        "id": "mmgoX8cIzZla",
        "outputId": "c50a440e-1016-4f45-ceae-7997d38b86f2"
      },
      "execution_count": 39,
      "outputs": [
        {
          "output_type": "execute_result",
          "data": {
            "text/plain": [
              "['diabetes_xgb_model.pkl']"
            ]
          },
          "metadata": {},
          "execution_count": 39
        }
      ]
    },
    {
      "cell_type": "markdown",
      "source": [
        "- joblib is a Python library for saving and loading Python objects (like ML models). It works better than pickle for large models (like Random Forest or XGBoost).\n",
        "\n",
        "- joblib.dump(xgb, \"diabetes_xgb_model.pkl\"): xgb is the trained XGBoost model.\n",
        "\n",
        "This creates a file that contains all the trained parameters (trees, weights, etc.).\n",
        "\n",
        "We are doing this to retrain the model every time we want to make predictions. we can just load it from disk later."
      ],
      "metadata": {
        "id": "q4FMiq2sz-SY"
      }
    },
    {
      "cell_type": "markdown",
      "source": [
        "**Loading the Model Later**"
      ],
      "metadata": {
        "id": "vPFKQVZL0U26"
      }
    },
    {
      "cell_type": "code",
      "source": [
        "model = joblib.load(\"diabetes_xgb_model.pkl\")\n",
        "\n",
        "# Example patient data (same 8 features as dataset)\n",
        "sample_patient = [2, 120, 70, 25, 80, 30.5, 0.5, 35]\n",
        "\n",
        "# prediction\n",
        "prediction = model.predict([sample_patient])\n",
        "probability = model.predict_proba([sample_patient])[0][1]\n",
        "\n",
        "print(\"Prediction:\", \"Diabetic\" if prediction[0] == 1 else \"Not Diabetic\")\n",
        "print(\"Probability:\", probability)"
      ],
      "metadata": {
        "colab": {
          "base_uri": "https://localhost:8080/"
        },
        "id": "spyC8hfu0bN-",
        "outputId": "39f88654-1e7b-487f-8615-bf1ff2bdda8a"
      },
      "execution_count": 40,
      "outputs": [
        {
          "output_type": "stream",
          "name": "stdout",
          "text": [
            "Prediction: Diabetic\n",
            "Probability: 0.8908433\n"
          ]
        }
      ]
    },
    {
      "cell_type": "markdown",
      "source": [
        " **Prediction Function**"
      ],
      "metadata": {
        "id": "1FskoYkc1weR"
      }
    },
    {
      "cell_type": "code",
      "source": [
        "def predict_diabetes(patient_data):\n",
        "    # 1) Basic validation\n",
        "    if len(patient_data) != 8:\n",
        "        raise ValueError(\"Expected 8 values in the order: [Pregnancies, Glucose, BloodPressure, SkinThickness, Insulin, BMI, DiabetesPedigreeFunction, Age]\")\n",
        "\n",
        "    # 2) Convert to 2D float array\n",
        "    arr = np.array(patient_data, dtype=float).reshape(1, -1) #reshape(1, -1) guarantees the right shape even if you passed a flat list.\n",
        "\n",
        "    # 3) Predict label and probability\n",
        "    pred = model.predict(arr)[0]\n",
        "    prob = model.predict_proba(arr)[0][1]\n",
        "\n",
        "    # 4) Human-readable label\n",
        "    result = \"Diabetic\" if pred == 1 else \"Not Diabetic\"\n",
        "    return result, float(prob)"
      ],
      "metadata": {
        "id": "ScksCgUY12-W"
      },
      "execution_count": 41,
      "outputs": []
    },
    {
      "cell_type": "code",
      "source": [
        "patient = [2, 120, 70, 25, 80, 30.5, 0.5, 35]\n",
        "label, p = predict_diabetes(patient)\n",
        "print(label)          # e.g., \"Diabetic\"\n",
        "print(f\"{p:.2f}\")     # e.g., 0.72"
      ],
      "metadata": {
        "colab": {
          "base_uri": "https://localhost:8080/"
        },
        "id": "UAJx8XGB2P_U",
        "outputId": "e295d77a-4c38-4a43-c5b8-b16a14a252c8"
      },
      "execution_count": 42,
      "outputs": [
        {
          "output_type": "stream",
          "name": "stdout",
          "text": [
            "Diabetic\n",
            "0.89\n"
          ]
        }
      ]
    }
  ]
}